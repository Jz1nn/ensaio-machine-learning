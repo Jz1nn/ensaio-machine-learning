{
 "cells": [
  {
   "cell_type": "markdown",
   "metadata": {},
   "source": [
    "# 0.0 Regressao Linear"
   ]
  },
  {
   "cell_type": "markdown",
   "metadata": {},
   "source": [
    "## 0.1 Imports"
   ]
  },
  {
   "cell_type": "code",
   "execution_count": null,
   "metadata": {},
   "outputs": [],
   "source": [
    "import pandas                             as pd\n",
    "import numpy                              as np\n",
    "\n",
    "from sklearn               import metrics as mt\n",
    "\n",
    "from sklearn.preprocessing import StandardScaler\n",
    "from sklearn.linear_model  import LinearRegression"
   ]
  },
  {
   "cell_type": "markdown",
   "metadata": {},
   "source": [
    "## 0.2 Load Dataset"
   ]
  },
  {
   "cell_type": "code",
   "execution_count": null,
   "metadata": {},
   "outputs": [],
   "source": [
    "# X training / test / validation\n",
    "path_X_training = './training_test_validation(1)/X_training (1).csv'\n",
    "df_X_training = pd.read_csv(path_X_training)\n",
    "path_X_test = './training_test_validation(1)/X_test (1).csv'\n",
    "df_X_test = pd.read_csv(path_X_test)\n",
    "path_X_validation = './training_test_validation(1)/X_validation (1).csv'\n",
    "df_X_validation = pd.read_csv(path_X_validation)\n",
    "\n",
    "# Y training / test / validation\n",
    "path_y_training = './training_test_validation(1)/y_training (1).csv'\n",
    "df_y_training = pd.read_csv(path_y_training)\n",
    "path_y_test = './training_test_validation(1)/y_test (1).csv'\n",
    "df_y_test = pd.read_csv(path_y_test)\n",
    "path_y_validation = './training_test_validation(1)/y_val.csv'\n",
    "df_y_validation = pd.read_csv(path_y_validation)\n",
    "\n"
   ]
  },
  {
   "cell_type": "code",
   "execution_count": null,
   "metadata": {},
   "outputs": [
    {
     "data": {
      "text/html": [
       "<div>\n",
       "<style scoped>\n",
       "    .dataframe tbody tr th:only-of-type {\n",
       "        vertical-align: middle;\n",
       "    }\n",
       "\n",
       "    .dataframe tbody tr th {\n",
       "        vertical-align: top;\n",
       "    }\n",
       "\n",
       "    .dataframe thead th {\n",
       "        text-align: right;\n",
       "    }\n",
       "</style>\n",
       "<table border=\"1\" class=\"dataframe\">\n",
       "  <thead>\n",
       "    <tr style=\"text-align: right;\">\n",
       "      <th></th>\n",
       "      <th>song_duration_ms</th>\n",
       "      <th>acousticness</th>\n",
       "      <th>danceability</th>\n",
       "      <th>energy</th>\n",
       "      <th>instrumentalness</th>\n",
       "      <th>key</th>\n",
       "      <th>liveness</th>\n",
       "      <th>loudness</th>\n",
       "      <th>audio_mode</th>\n",
       "      <th>speechiness</th>\n",
       "      <th>tempo</th>\n",
       "      <th>time_signature</th>\n",
       "      <th>audio_valence</th>\n",
       "    </tr>\n",
       "  </thead>\n",
       "  <tbody>\n",
       "    <tr>\n",
       "      <th>0</th>\n",
       "      <td>0.205673</td>\n",
       "      <td>0.092100</td>\n",
       "      <td>0.720</td>\n",
       "      <td>0.802</td>\n",
       "      <td>0.000000</td>\n",
       "      <td>0.090909</td>\n",
       "      <td>0.694</td>\n",
       "      <td>0.431778</td>\n",
       "      <td>1</td>\n",
       "      <td>0.0582</td>\n",
       "      <td>0.103876</td>\n",
       "      <td>0.8</td>\n",
       "      <td>0.723</td>\n",
       "    </tr>\n",
       "    <tr>\n",
       "      <th>1</th>\n",
       "      <td>-0.240409</td>\n",
       "      <td>0.737000</td>\n",
       "      <td>0.483</td>\n",
       "      <td>0.412</td>\n",
       "      <td>0.000000</td>\n",
       "      <td>0.636364</td>\n",
       "      <td>0.116</td>\n",
       "      <td>-0.262732</td>\n",
       "      <td>1</td>\n",
       "      <td>0.0402</td>\n",
       "      <td>1.711532</td>\n",
       "      <td>0.6</td>\n",
       "      <td>0.247</td>\n",
       "    </tr>\n",
       "    <tr>\n",
       "      <th>2</th>\n",
       "      <td>-0.125770</td>\n",
       "      <td>0.274000</td>\n",
       "      <td>0.671</td>\n",
       "      <td>0.565</td>\n",
       "      <td>0.000065</td>\n",
       "      <td>1.000000</td>\n",
       "      <td>0.370</td>\n",
       "      <td>0.013612</td>\n",
       "      <td>0</td>\n",
       "      <td>0.1600</td>\n",
       "      <td>1.009176</td>\n",
       "      <td>0.8</td>\n",
       "      <td>0.561</td>\n",
       "    </tr>\n",
       "    <tr>\n",
       "      <th>3</th>\n",
       "      <td>-0.580967</td>\n",
       "      <td>0.002340</td>\n",
       "      <td>0.704</td>\n",
       "      <td>0.529</td>\n",
       "      <td>0.874000</td>\n",
       "      <td>1.000000</td>\n",
       "      <td>0.370</td>\n",
       "      <td>-0.266382</td>\n",
       "      <td>0</td>\n",
       "      <td>0.0416</td>\n",
       "      <td>0.666173</td>\n",
       "      <td>0.8</td>\n",
       "      <td>0.507</td>\n",
       "    </tr>\n",
       "    <tr>\n",
       "      <th>4</th>\n",
       "      <td>-0.688566</td>\n",
       "      <td>0.000414</td>\n",
       "      <td>0.354</td>\n",
       "      <td>0.910</td>\n",
       "      <td>0.205000</td>\n",
       "      <td>0.090909</td>\n",
       "      <td>0.456</td>\n",
       "      <td>0.422914</td>\n",
       "      <td>1</td>\n",
       "      <td>0.0430</td>\n",
       "      <td>1.182630</td>\n",
       "      <td>0.8</td>\n",
       "      <td>0.362</td>\n",
       "    </tr>\n",
       "  </tbody>\n",
       "</table>\n",
       "</div>"
      ],
      "text/plain": [
       "   song_duration_ms  acousticness  danceability  energy  instrumentalness  \\\n",
       "0          0.205673      0.092100         0.720   0.802          0.000000   \n",
       "1         -0.240409      0.737000         0.483   0.412          0.000000   \n",
       "2         -0.125770      0.274000         0.671   0.565          0.000065   \n",
       "3         -0.580967      0.002340         0.704   0.529          0.874000   \n",
       "4         -0.688566      0.000414         0.354   0.910          0.205000   \n",
       "\n",
       "        key  liveness  loudness  audio_mode  speechiness     tempo  \\\n",
       "0  0.090909     0.694  0.431778           1       0.0582  0.103876   \n",
       "1  0.636364     0.116 -0.262732           1       0.0402  1.711532   \n",
       "2  1.000000     0.370  0.013612           0       0.1600  1.009176   \n",
       "3  1.000000     0.370 -0.266382           0       0.0416  0.666173   \n",
       "4  0.090909     0.456  0.422914           1       0.0430  1.182630   \n",
       "\n",
       "   time_signature  audio_valence  \n",
       "0             0.8          0.723  \n",
       "1             0.6          0.247  \n",
       "2             0.8          0.561  \n",
       "3             0.8          0.507  \n",
       "4             0.8          0.362  "
      ]
     },
     "metadata": {},
     "output_type": "display_data"
    }
   ],
   "source": [
    "df_X_training.head(5)"
   ]
  },
  {
   "cell_type": "code",
   "execution_count": null,
   "metadata": {},
   "outputs": [
    {
     "data": {
      "text/html": [
       "<div>\n",
       "<style scoped>\n",
       "    .dataframe tbody tr th:only-of-type {\n",
       "        vertical-align: middle;\n",
       "    }\n",
       "\n",
       "    .dataframe tbody tr th {\n",
       "        vertical-align: top;\n",
       "    }\n",
       "\n",
       "    .dataframe thead th {\n",
       "        text-align: right;\n",
       "    }\n",
       "</style>\n",
       "<table border=\"1\" class=\"dataframe\">\n",
       "  <thead>\n",
       "    <tr style=\"text-align: right;\">\n",
       "      <th></th>\n",
       "      <th>song_popularity</th>\n",
       "    </tr>\n",
       "  </thead>\n",
       "  <tbody>\n",
       "    <tr>\n",
       "      <th>0</th>\n",
       "      <td>79.0</td>\n",
       "    </tr>\n",
       "    <tr>\n",
       "      <th>1</th>\n",
       "      <td>86.0</td>\n",
       "    </tr>\n",
       "    <tr>\n",
       "      <th>2</th>\n",
       "      <td>63.0</td>\n",
       "    </tr>\n",
       "    <tr>\n",
       "      <th>3</th>\n",
       "      <td>25.0</td>\n",
       "    </tr>\n",
       "    <tr>\n",
       "      <th>4</th>\n",
       "      <td>35.0</td>\n",
       "    </tr>\n",
       "  </tbody>\n",
       "</table>\n",
       "</div>"
      ],
      "text/plain": [
       "   song_popularity\n",
       "0             79.0\n",
       "1             86.0\n",
       "2             63.0\n",
       "3             25.0\n",
       "4             35.0"
      ]
     },
     "metadata": {},
     "output_type": "display_data"
    }
   ],
   "source": [
    "df_y_training.head(5)"
   ]
  },
  {
   "cell_type": "markdown",
   "metadata": {},
   "source": [
    "## 0.3 Features"
   ]
  },
  {
   "cell_type": "code",
   "execution_count": null,
   "metadata": {},
   "outputs": [],
   "source": [
    "features = ['song_duration_ms', 'acousticness', 'danceability', 'energy',\n",
    "       'instrumentalness', 'key', 'liveness', 'loudness', 'audio_mode',\n",
    "       'speechiness', 'tempo', 'time_signature', 'audio_valence']\n",
    "\n",
    "label = ['song_popularity']\n",
    "\n",
    "X_train = df_X_training.loc[:, features]\n",
    "y_train = df_y_training.loc[:, label]\n",
    "X_test = df_X_test.loc[:, features]\n",
    "y_test = df_y_test.loc[:, label]\n",
    "X_validation = df_X_validation.loc[:, features]\n",
    "y_validation = df_y_validation.loc[:, label]"
   ]
  },
  {
   "cell_type": "markdown",
   "metadata": {},
   "source": [
    "### 0.3.1 Pre-processamento Normalizacao"
   ]
  },
  {
   "cell_type": "code",
   "execution_count": null,
   "metadata": {},
   "outputs": [],
   "source": [
    "scaler = StandardScaler()\n",
    "\n",
    "# Ajustar o escalador apenas no conjunto de treinamento\n",
    "X_train_scaled = scaler.fit_transform(X_train)\n",
    "\n",
    "# Aplicar a transformação ao conjunto de teste e validação\n",
    "X_test_scaled = scaler.transform(X_test)\n",
    "X_validation_scaled = scaler.transform(X_validation)"
   ]
  },
  {
   "cell_type": "markdown",
   "metadata": {},
   "source": [
    "## 0.4 Training"
   ]
  },
  {
   "cell_type": "code",
   "execution_count": null,
   "metadata": {},
   "outputs": [],
   "source": [
    "# Model definition\n",
    "lr_model = LinearRegression(fit_intercept=True)\n",
    "\n",
    "# Model Fit (ajuste, treinamento)\n",
    "lr_model.fit(X_train_scaled, y_train)\n",
    "\n",
    "# Previsao\n",
    "y_pred_train = lr_model.predict(X_train_scaled)\n",
    "y_pred_test = lr_model.predict(X_test_scaled)\n",
    "y_pred_validation = lr_model.predict(X_validation_scaled)"
   ]
  },
  {
   "cell_type": "markdown",
   "metadata": {},
   "source": [
    "## 0.5 Performance"
   ]
  },
  {
   "cell_type": "markdown",
   "metadata": {},
   "source": [
    "### 0.5.1 Perfomance sobre dados de Treino"
   ]
  },
  {
   "cell_type": "code",
   "execution_count": null,
   "metadata": {},
   "outputs": [
    {
     "name": "stdout",
     "output_type": "stream",
     "text": [
      "Métricas no Conjunto de Treinamento:\n",
      "R2: 0.04605830473391903\n",
      "MSE: 456.0\n",
      "RMSE: 21.35406546364478\n",
      "MAE: 17.0\n",
      "MAPE: 8.65\n"
     ]
    }
   ],
   "source": [
    "print(\"Métricas no Conjunto de Treinamento:\")\n",
    "print('R2:', mt.r2_score(y_train, y_pred_train))\n",
    "print('MSE:', np.round(mt.mean_squared_error(y_train, y_pred_train), 2))\n",
    "print('RMSE:', np.sqrt(mt.mean_squared_error(y_train, y_pred_train)))\n",
    "print('MAE:', np.round(mt.mean_absolute_error(y_train, y_pred_train), 2))\n",
    "print('MAPE:', np.round(mt.mean_absolute_percentage_error(y_train, y_pred_train), 2))"
   ]
  },
  {
   "cell_type": "markdown",
   "metadata": {},
   "source": [
    "### 0.5.2 Perfomance sobre dados de Validacao"
   ]
  },
  {
   "cell_type": "code",
   "execution_count": null,
   "metadata": {},
   "outputs": [
    {
     "name": "stdout",
     "output_type": "stream",
     "text": [
      "\n",
      "Métricas no Conjunto de Validação:\n",
      "R2: 0.03992483038154071\n",
      "MSE: 458.447\n",
      "RMSE: 21.41137645841414\n",
      "MAE: 17.04\n",
      "MAPE: 8.683\n"
     ]
    }
   ],
   "source": [
    "print(\"\\nMétricas no Conjunto de Validação:\")\n",
    "print('R2:', mt.r2_score(y_validation, y_pred_validation))\n",
    "print('MSE:', np.round(mt.mean_squared_error(y_validation, y_pred_validation), 3))\n",
    "print('RMSE:', np.sqrt(mt.mean_squared_error(y_validation, y_pred_validation)))\n",
    "print('MAE:', np.round(mt.mean_absolute_error(y_validation, y_pred_validation), 3))\n",
    "print('MAPE:', np.round(mt.mean_absolute_percentage_error(y_validation, y_pred_validation), 3))"
   ]
  },
  {
   "cell_type": "markdown",
   "metadata": {},
   "source": [
    "### 0.5.3 Perfomance sobre dados de Teste"
   ]
  },
  {
   "cell_type": "code",
   "execution_count": null,
   "metadata": {},
   "outputs": [
    {
     "name": "stdout",
     "output_type": "stream",
     "text": [
      "\n",
      "Métricas no Conjunto de Teste:\n",
      "R2: 0.052317119521687494\n",
      "MSE: 461.43\n",
      "RMSE: 21.480868682071254\n",
      "MAE: 17.13\n",
      "MAPE: 8.52\n"
     ]
    }
   ],
   "source": [
    "print(\"\\nMétricas no Conjunto de Teste:\")\n",
    "print('R2:', mt.r2_score(y_test, y_pred_test))\n",
    "print('MSE:', np.round(mt.mean_squared_error(y_test, y_pred_test), 2))\n",
    "print('RMSE:', np.sqrt(mt.mean_squared_error(y_test, y_pred_test)))\n",
    "print('MAE:', np.round(mt.mean_absolute_error(y_test, y_pred_test), 2))\n",
    "print('MAPE:', np.round(mt.mean_absolute_percentage_error(y_test, y_pred_test), 2))"
   ]
  },
  {
   "cell_type": "markdown",
   "metadata": {},
   "source": [
    "# 1.0 Decision Tree - Regressor\n"
   ]
  },
  {
   "cell_type": "markdown",
   "metadata": {},
   "source": [
    "## 1.1 Imports"
   ]
  },
  {
   "cell_type": "code",
   "execution_count": null,
   "metadata": {},
   "outputs": [],
   "source": [
    "import numpy                                      as np\n",
    "import pandas                                     as pd\n",
    "\n",
    "from sklearn               import tree            as tr\n",
    "from sklearn               import metrics         as mt\n",
    "\n",
    "from sklearn.preprocessing import StandardScaler\n",
    "\n",
    "from matplotlib            import pyplot          as plt"
   ]
  },
  {
   "cell_type": "markdown",
   "metadata": {},
   "source": [
    "## 1.2 Load Dataset"
   ]
  },
  {
   "cell_type": "code",
   "execution_count": null,
   "metadata": {},
   "outputs": [],
   "source": [
    "# X training / test / validation\n",
    "path_X_training = './training_test_validation(1)/X_training (1).csv'\n",
    "df_X_training = pd.read_csv(path_X_training)\n",
    "path_X_test = './training_test_validation(1)/X_test (1).csv'\n",
    "df_X_test = pd.read_csv(path_X_test)\n",
    "path_X_validation = './training_test_validation(1)/X_validation (1).csv'\n",
    "df_X_validation = pd.read_csv(path_X_validation)\n",
    "\n",
    "# Y training / test / validation\n",
    "path_y_training = './training_test_validation(1)/y_training (1).csv'\n",
    "df_y_training = pd.read_csv(path_y_training)\n",
    "path_y_test = './training_test_validation(1)/y_test (1).csv'\n",
    "df_y_test = pd.read_csv(path_y_test)\n",
    "path_y_validation = './training_test_validation(1)/y_val.csv'\n",
    "df_y_validation = pd.read_csv(path_y_validation)\n",
    "\n"
   ]
  },
  {
   "cell_type": "code",
   "execution_count": null,
   "metadata": {},
   "outputs": [
    {
     "data": {
      "text/html": [
       "<div>\n",
       "<style scoped>\n",
       "    .dataframe tbody tr th:only-of-type {\n",
       "        vertical-align: middle;\n",
       "    }\n",
       "\n",
       "    .dataframe tbody tr th {\n",
       "        vertical-align: top;\n",
       "    }\n",
       "\n",
       "    .dataframe thead th {\n",
       "        text-align: right;\n",
       "    }\n",
       "</style>\n",
       "<table border=\"1\" class=\"dataframe\">\n",
       "  <thead>\n",
       "    <tr style=\"text-align: right;\">\n",
       "      <th></th>\n",
       "      <th>song_duration_ms</th>\n",
       "      <th>acousticness</th>\n",
       "      <th>danceability</th>\n",
       "      <th>energy</th>\n",
       "      <th>instrumentalness</th>\n",
       "      <th>key</th>\n",
       "      <th>liveness</th>\n",
       "      <th>loudness</th>\n",
       "      <th>audio_mode</th>\n",
       "      <th>speechiness</th>\n",
       "      <th>tempo</th>\n",
       "      <th>time_signature</th>\n",
       "      <th>audio_valence</th>\n",
       "    </tr>\n",
       "  </thead>\n",
       "  <tbody>\n",
       "    <tr>\n",
       "      <th>0</th>\n",
       "      <td>0.205673</td>\n",
       "      <td>0.092100</td>\n",
       "      <td>0.720</td>\n",
       "      <td>0.802</td>\n",
       "      <td>0.000000</td>\n",
       "      <td>0.090909</td>\n",
       "      <td>0.694</td>\n",
       "      <td>0.431778</td>\n",
       "      <td>1</td>\n",
       "      <td>0.0582</td>\n",
       "      <td>0.103876</td>\n",
       "      <td>0.8</td>\n",
       "      <td>0.723</td>\n",
       "    </tr>\n",
       "    <tr>\n",
       "      <th>1</th>\n",
       "      <td>-0.240409</td>\n",
       "      <td>0.737000</td>\n",
       "      <td>0.483</td>\n",
       "      <td>0.412</td>\n",
       "      <td>0.000000</td>\n",
       "      <td>0.636364</td>\n",
       "      <td>0.116</td>\n",
       "      <td>-0.262732</td>\n",
       "      <td>1</td>\n",
       "      <td>0.0402</td>\n",
       "      <td>1.711532</td>\n",
       "      <td>0.6</td>\n",
       "      <td>0.247</td>\n",
       "    </tr>\n",
       "    <tr>\n",
       "      <th>2</th>\n",
       "      <td>-0.125770</td>\n",
       "      <td>0.274000</td>\n",
       "      <td>0.671</td>\n",
       "      <td>0.565</td>\n",
       "      <td>0.000065</td>\n",
       "      <td>1.000000</td>\n",
       "      <td>0.370</td>\n",
       "      <td>0.013612</td>\n",
       "      <td>0</td>\n",
       "      <td>0.1600</td>\n",
       "      <td>1.009176</td>\n",
       "      <td>0.8</td>\n",
       "      <td>0.561</td>\n",
       "    </tr>\n",
       "    <tr>\n",
       "      <th>3</th>\n",
       "      <td>-0.580967</td>\n",
       "      <td>0.002340</td>\n",
       "      <td>0.704</td>\n",
       "      <td>0.529</td>\n",
       "      <td>0.874000</td>\n",
       "      <td>1.000000</td>\n",
       "      <td>0.370</td>\n",
       "      <td>-0.266382</td>\n",
       "      <td>0</td>\n",
       "      <td>0.0416</td>\n",
       "      <td>0.666173</td>\n",
       "      <td>0.8</td>\n",
       "      <td>0.507</td>\n",
       "    </tr>\n",
       "    <tr>\n",
       "      <th>4</th>\n",
       "      <td>-0.688566</td>\n",
       "      <td>0.000414</td>\n",
       "      <td>0.354</td>\n",
       "      <td>0.910</td>\n",
       "      <td>0.205000</td>\n",
       "      <td>0.090909</td>\n",
       "      <td>0.456</td>\n",
       "      <td>0.422914</td>\n",
       "      <td>1</td>\n",
       "      <td>0.0430</td>\n",
       "      <td>1.182630</td>\n",
       "      <td>0.8</td>\n",
       "      <td>0.362</td>\n",
       "    </tr>\n",
       "  </tbody>\n",
       "</table>\n",
       "</div>"
      ],
      "text/plain": [
       "   song_duration_ms  acousticness  danceability  energy  instrumentalness  \\\n",
       "0          0.205673      0.092100         0.720   0.802          0.000000   \n",
       "1         -0.240409      0.737000         0.483   0.412          0.000000   \n",
       "2         -0.125770      0.274000         0.671   0.565          0.000065   \n",
       "3         -0.580967      0.002340         0.704   0.529          0.874000   \n",
       "4         -0.688566      0.000414         0.354   0.910          0.205000   \n",
       "\n",
       "        key  liveness  loudness  audio_mode  speechiness     tempo  \\\n",
       "0  0.090909     0.694  0.431778           1       0.0582  0.103876   \n",
       "1  0.636364     0.116 -0.262732           1       0.0402  1.711532   \n",
       "2  1.000000     0.370  0.013612           0       0.1600  1.009176   \n",
       "3  1.000000     0.370 -0.266382           0       0.0416  0.666173   \n",
       "4  0.090909     0.456  0.422914           1       0.0430  1.182630   \n",
       "\n",
       "   time_signature  audio_valence  \n",
       "0             0.8          0.723  \n",
       "1             0.6          0.247  \n",
       "2             0.8          0.561  \n",
       "3             0.8          0.507  \n",
       "4             0.8          0.362  "
      ]
     },
     "metadata": {},
     "output_type": "display_data"
    }
   ],
   "source": [
    "df_X_training.head(5)"
   ]
  },
  {
   "cell_type": "code",
   "execution_count": null,
   "metadata": {},
   "outputs": [
    {
     "data": {
      "text/html": [
       "<div>\n",
       "<style scoped>\n",
       "    .dataframe tbody tr th:only-of-type {\n",
       "        vertical-align: middle;\n",
       "    }\n",
       "\n",
       "    .dataframe tbody tr th {\n",
       "        vertical-align: top;\n",
       "    }\n",
       "\n",
       "    .dataframe thead th {\n",
       "        text-align: right;\n",
       "    }\n",
       "</style>\n",
       "<table border=\"1\" class=\"dataframe\">\n",
       "  <thead>\n",
       "    <tr style=\"text-align: right;\">\n",
       "      <th></th>\n",
       "      <th>song_popularity</th>\n",
       "    </tr>\n",
       "  </thead>\n",
       "  <tbody>\n",
       "    <tr>\n",
       "      <th>0</th>\n",
       "      <td>79.0</td>\n",
       "    </tr>\n",
       "    <tr>\n",
       "      <th>1</th>\n",
       "      <td>86.0</td>\n",
       "    </tr>\n",
       "    <tr>\n",
       "      <th>2</th>\n",
       "      <td>63.0</td>\n",
       "    </tr>\n",
       "    <tr>\n",
       "      <th>3</th>\n",
       "      <td>25.0</td>\n",
       "    </tr>\n",
       "    <tr>\n",
       "      <th>4</th>\n",
       "      <td>35.0</td>\n",
       "    </tr>\n",
       "  </tbody>\n",
       "</table>\n",
       "</div>"
      ],
      "text/plain": [
       "   song_popularity\n",
       "0             79.0\n",
       "1             86.0\n",
       "2             63.0\n",
       "3             25.0\n",
       "4             35.0"
      ]
     },
     "metadata": {},
     "output_type": "display_data"
    }
   ],
   "source": [
    "df_y_training.head(5)"
   ]
  },
  {
   "cell_type": "markdown",
   "metadata": {},
   "source": [
    "## 1.3 Features"
   ]
  },
  {
   "cell_type": "code",
   "execution_count": null,
   "metadata": {},
   "outputs": [],
   "source": [
    "features = ['song_duration_ms', 'acousticness', 'danceability', 'energy',\n",
    "       'instrumentalness', 'key', 'liveness', 'loudness', 'audio_mode',\n",
    "       'speechiness', 'tempo', 'time_signature', 'audio_valence']\n",
    "\n",
    "label = ['song_popularity']\n",
    "\n",
    "X_train = df_X_training.loc[:, features]\n",
    "y_train = df_y_training.loc[:, label]\n",
    "X_test = df_X_test.loc[:, features]\n",
    "y_test = df_y_test.loc[:, label]\n",
    "X_validation = df_X_validation.loc[:, features]\n",
    "y_validation = df_y_validation.loc[:, label]"
   ]
  },
  {
   "cell_type": "markdown",
   "metadata": {},
   "source": [
    "### 1.3.1 Pre-processamento Normalizacao"
   ]
  },
  {
   "cell_type": "code",
   "execution_count": null,
   "metadata": {},
   "outputs": [],
   "source": [
    "scaler = StandardScaler()\n",
    "\n",
    "# Ajustar o escalador apenas no conjunto de treinamento\n",
    "X_train_scaled = scaler.fit_transform(X_train)\n",
    "\n",
    "# Aplicar a transformação ao conjunto de teste e validação\n",
    "X_test_scaled = scaler.transform(X_test)\n",
    "X_validation_scaled = scaler.transform(X_validation)"
   ]
  },
  {
   "cell_type": "markdown",
   "metadata": {},
   "source": [
    "## 1.4 Training"
   ]
  },
  {
   "cell_type": "markdown",
   "metadata": {},
   "source": [
    "### 1.4.1 Encontrar o melhor valor para max_depth"
   ]
  },
  {
   "cell_type": "code",
   "execution_count": null,
   "metadata": {},
   "outputs": [],
   "source": [
    "max_depth_values = np.arange(2, 30, 1)\n",
    "train_results = []\n",
    "test_results = []\n",
    "validation_results = []\n",
    "\n",
    "for i in max_depth_values:\n",
    "    model_train = tr.DecisionTreeRegressor(max_depth=i)\n",
    "    \n",
    "    # Treinamento\n",
    "    model_train.fit(X_train_scaled, y_train)\n",
    "\n",
    "    # Performance\n",
    "    y_pred_train = model_train.predict(X_train_scaled)\n",
    "\n",
    "    r2 = mt.r2_score(y_train, y_pred_train)\n",
    "    train_results.append(r2)\n",
    "\n",
    "    # Teste\n",
    "    model_test = tr.DecisionTreeRegressor(max_depth=i)\n",
    "    model_test.fit(X_test_scaled, y_test)\n",
    "    y_pred_test = model_test.predict(X_test_scaled)\n",
    "\n",
    "    r2 = mt.r2_score(y_test, y_pred_test)\n",
    "    test_results.append(r2)\n",
    "\n",
    "    # Validação\n",
    "    model_validation = tr.DecisionTreeRegressor(max_depth=i)\n",
    "    model_validation.fit(X_validation_scaled, y_validation)\n",
    "    y_pred_validation = model_validation.predict(X_validation_scaled)\n",
    "\n",
    "    r2 = mt.r2_score(y_validation, y_pred_validation)\n",
    "    validation_results.append(r2)"
   ]
  },
  {
   "cell_type": "code",
   "execution_count": null,
   "metadata": {},
   "outputs": [
    {
     "data": {
      "image/png": "[encoded data removed]",
      "text/plain": [
       "<Figure size 1000x600 with 1 Axes>"
      ]
     },
     "metadata": {},
     "output_type": "display_data"
    }
   ],
   "source": [
    "plt.figure(figsize=(10, 6))\n",
    "plt.plot(max_depth_values, train_results, 'b', label='Train R2')\n",
    "plt.plot(max_depth_values, test_results, 'r', label='Test R2')\n",
    "plt.plot(max_depth_values, validation_results, 'g', label='Validation R2')\n",
    "plt.ylabel('R2')\n",
    "plt.xlabel('Max Depth')\n",
    "plt.legend()\n",
    "plt.show()"
   ]
  },
  {
   "cell_type": "code",
   "execution_count": null,
   "metadata": {},
   "outputs": [
    {
     "data": {
      "text/plain": [
       "29"
      ]
     },
     "metadata": {},
     "output_type": "display_data"
    }
   ],
   "source": [
    "best_max_depth = max_depth_values[np.argmax(validation_results)]\n",
    "best_max_depth"
   ]
  },
  {
   "cell_type": "markdown",
   "metadata": {},
   "source": [
    "## 1.5 Performance"
   ]
  },
  {
   "cell_type": "markdown",
   "metadata": {},
   "source": [
    "### 1.5.1 Perfomance sobre dados de Treino"
   ]
  },
  {
   "cell_type": "code",
   "execution_count": null,
   "metadata": {},
   "outputs": [],
   "source": [
    "# Escolher o melhor modelo\n",
    "model = tr.DecisionTreeRegressor(max_depth=best_max_depth)\n",
    "model.fit(X_train_scaled, y_train)\n",
    "\n",
    "# Previsao\n",
    "y_pred_train = model.predict(X_train_scaled)\n",
    "y_pred_test = model.predict(X_test_scaled)\n",
    "y_pred_validation = model.predict(X_validation_scaled)"
   ]
  },
  {
   "cell_type": "code",
   "execution_count": null,
   "metadata": {},
   "outputs": [
    {
     "name": "stdout",
     "output_type": "stream",
     "text": [
      "Métricas no Conjunto de Treinamento:\n",
      "R2: 0.9915340993626588\n",
      "MSE: 4.047\n",
      "RMSE: 2.0116676753853415\n",
      "MAE: 0.239\n",
      "MAPE: 0.083\n"
     ]
    }
   ],
   "source": [
    "print(\"Métricas no Conjunto de Treinamento:\")\n",
    "print('R2:', mt.r2_score(y_train, y_pred_train))\n",
    "print('MSE:', np.round(mt.mean_squared_error(y_train, y_pred_train), 3))\n",
    "print('RMSE:', np.sqrt(mt.mean_squared_error(y_train, y_pred_train)))\n",
    "print('MAE:', np.round(mt.mean_absolute_error(y_train, y_pred_train), 3))\n",
    "print('MAPE:', np.round(mt.mean_absolute_percentage_error(y_train, y_pred_train), 3))"
   ]
  },
  {
   "cell_type": "markdown",
   "metadata": {},
   "source": [
    "### 1.5.2 Perfomance sobre dados de Validacao"
   ]
  },
  {
   "cell_type": "code",
   "execution_count": null,
   "metadata": {},
   "outputs": [
    {
     "name": "stdout",
     "output_type": "stream",
     "text": [
      "\n",
      "Métricas no Conjunto de Validação:\n",
      "R2: -0.30362660731890423\n",
      "MSE: 622.497\n",
      "RMSE: 24.949886625999877\n",
      "MAE: 17.144\n",
      "MAPE: 7.105\n"
     ]
    }
   ],
   "source": [
    "print(\"\\nMétricas no Conjunto de Validação:\")\n",
    "print('R2:', mt.r2_score(y_validation, y_pred_validation))\n",
    "print('MSE:', np.round(mt.mean_squared_error(y_validation, y_pred_validation), 3))\n",
    "print('RMSE:', np.sqrt(mt.mean_squared_error(y_validation, y_pred_validation)))\n",
    "print('MAE:', np.round(mt.mean_absolute_error(y_validation, y_pred_validation), 3))\n",
    "print('MAPE:', np.round(mt.mean_absolute_percentage_error(y_validation, y_pred_validation), 3))"
   ]
  },
  {
   "cell_type": "markdown",
   "metadata": {},
   "source": [
    "### 1.5.3 Perfomance sobre dados de Teste"
   ]
  },
  {
   "cell_type": "code",
   "execution_count": null,
   "metadata": {},
   "outputs": [
    {
     "name": "stdout",
     "output_type": "stream",
     "text": [
      "\n",
      "Métricas no Conjunto de Teste:\n",
      "R2: -0.2651010852694988\n",
      "MSE: 615.979\n",
      "RMSE: 24.818923284734776\n",
      "MAE: 17.237\n",
      "MAPE: 6.54\n"
     ]
    }
   ],
   "source": [
    "print(\"\\nMétricas no Conjunto de Teste:\")\n",
    "print('R2:', mt.r2_score(y_test, y_pred_test))\n",
    "print('MSE:', np.round(mt.mean_squared_error(y_test, y_pred_test), 3))\n",
    "print('RMSE:', np.sqrt(mt.mean_squared_error(y_test, y_pred_test)))\n",
    "print('MAE:', np.round(mt.mean_absolute_error(y_test, y_pred_test), 3))\n",
    "print('MAPE:', np.round(mt.mean_absolute_percentage_error(y_test, y_pred_test), 3))"
   ]
  },
  {
   "cell_type": "markdown",
   "metadata": {},
   "source": [
    "# 2.0 Random Forest - Regressor"
   ]
  },
  {
   "cell_type": "markdown",
   "metadata": {},
   "source": [
    "### (nao executar - paramgrid usando todos os nucleos)\n",
    "### Melhores parâmetros encontrados: {'max_depth': None, 'n_estimators': 150}\n",
    "### Melhor RMSE: 18.00"
   ]
  },
  {
   "cell_type": "markdown",
   "metadata": {},
   "source": [
    "## 2.1 Imports"
   ]
  },
  {
   "cell_type": "code",
   "execution_count": null,
   "metadata": {},
   "outputs": [],
   "source": [
    "import pandas                                          as pd\n",
    "import numpy                                           as np\n",
    "\n",
    "from sklearn                 import ensemble           as en\n",
    "from sklearn                 import metrics            as mt\n",
    "from sklearn.model_selection import GridSearchCV"
   ]
  },
  {
   "cell_type": "markdown",
   "metadata": {},
   "source": [
    "## 2.2 Load Dataset"
   ]
  },
  {
   "cell_type": "code",
   "execution_count": null,
   "metadata": {},
   "outputs": [],
   "source": [
    "# X training / test / validation\n",
    "path_X_training = './training_test_validation(1)/X_training (1).csv'\n",
    "df_X_training = pd.read_csv(path_X_training)\n",
    "path_X_test = './training_test_validation(1)/X_test (1).csv'\n",
    "df_X_test = pd.read_csv(path_X_test)\n",
    "path_X_validation = './training_test_validation(1)/X_validation (1).csv'\n",
    "df_X_validation = pd.read_csv(path_X_validation)\n",
    "\n",
    "# Y training / test / validation\n",
    "path_y_training = './training_test_validation(1)/y_training (1).csv'\n",
    "df_y_training = pd.read_csv(path_y_training)\n",
    "path_y_test = './training_test_validation(1)/y_test (1).csv'\n",
    "df_y_test = pd.read_csv(path_y_test)\n",
    "path_y_validation = './training_test_validation(1)/y_val.csv'\n",
    "df_y_validation = pd.read_csv(path_y_validation)"
   ]
  },
  {
   "cell_type": "code",
   "execution_count": null,
   "metadata": {},
   "outputs": [
    {
     "data": {
      "text/html": [
       "<div>\n",
       "<style scoped>\n",
       "    .dataframe tbody tr th:only-of-type {\n",
       "        vertical-align: middle;\n",
       "    }\n",
       "\n",
       "    .dataframe tbody tr th {\n",
       "        vertical-align: top;\n",
       "    }\n",
       "\n",
       "    .dataframe thead th {\n",
       "        text-align: right;\n",
       "    }\n",
       "</style>\n",
       "<table border=\"1\" class=\"dataframe\">\n",
       "  <thead>\n",
       "    <tr style=\"text-align: right;\">\n",
       "      <th></th>\n",
       "      <th>song_duration_ms</th>\n",
       "      <th>acousticness</th>\n",
       "      <th>danceability</th>\n",
       "      <th>energy</th>\n",
       "      <th>instrumentalness</th>\n",
       "      <th>key</th>\n",
       "      <th>liveness</th>\n",
       "      <th>loudness</th>\n",
       "      <th>audio_mode</th>\n",
       "      <th>speechiness</th>\n",
       "      <th>tempo</th>\n",
       "      <th>time_signature</th>\n",
       "      <th>audio_valence</th>\n",
       "    </tr>\n",
       "  </thead>\n",
       "  <tbody>\n",
       "    <tr>\n",
       "      <th>0</th>\n",
       "      <td>0.205673</td>\n",
       "      <td>0.092100</td>\n",
       "      <td>0.720</td>\n",
       "      <td>0.802</td>\n",
       "      <td>0.000000</td>\n",
       "      <td>0.090909</td>\n",
       "      <td>0.694</td>\n",
       "      <td>0.431778</td>\n",
       "      <td>1</td>\n",
       "      <td>0.0582</td>\n",
       "      <td>0.103876</td>\n",
       "      <td>0.8</td>\n",
       "      <td>0.723</td>\n",
       "    </tr>\n",
       "    <tr>\n",
       "      <th>1</th>\n",
       "      <td>-0.240409</td>\n",
       "      <td>0.737000</td>\n",
       "      <td>0.483</td>\n",
       "      <td>0.412</td>\n",
       "      <td>0.000000</td>\n",
       "      <td>0.636364</td>\n",
       "      <td>0.116</td>\n",
       "      <td>-0.262732</td>\n",
       "      <td>1</td>\n",
       "      <td>0.0402</td>\n",
       "      <td>1.711532</td>\n",
       "      <td>0.6</td>\n",
       "      <td>0.247</td>\n",
       "    </tr>\n",
       "    <tr>\n",
       "      <th>2</th>\n",
       "      <td>-0.125770</td>\n",
       "      <td>0.274000</td>\n",
       "      <td>0.671</td>\n",
       "      <td>0.565</td>\n",
       "      <td>0.000065</td>\n",
       "      <td>1.000000</td>\n",
       "      <td>0.370</td>\n",
       "      <td>0.013612</td>\n",
       "      <td>0</td>\n",
       "      <td>0.1600</td>\n",
       "      <td>1.009176</td>\n",
       "      <td>0.8</td>\n",
       "      <td>0.561</td>\n",
       "    </tr>\n",
       "    <tr>\n",
       "      <th>3</th>\n",
       "      <td>-0.580967</td>\n",
       "      <td>0.002340</td>\n",
       "      <td>0.704</td>\n",
       "      <td>0.529</td>\n",
       "      <td>0.874000</td>\n",
       "      <td>1.000000</td>\n",
       "      <td>0.370</td>\n",
       "      <td>-0.266382</td>\n",
       "      <td>0</td>\n",
       "      <td>0.0416</td>\n",
       "      <td>0.666173</td>\n",
       "      <td>0.8</td>\n",
       "      <td>0.507</td>\n",
       "    </tr>\n",
       "    <tr>\n",
       "      <th>4</th>\n",
       "      <td>-0.688566</td>\n",
       "      <td>0.000414</td>\n",
       "      <td>0.354</td>\n",
       "      <td>0.910</td>\n",
       "      <td>0.205000</td>\n",
       "      <td>0.090909</td>\n",
       "      <td>0.456</td>\n",
       "      <td>0.422914</td>\n",
       "      <td>1</td>\n",
       "      <td>0.0430</td>\n",
       "      <td>1.182630</td>\n",
       "      <td>0.8</td>\n",
       "      <td>0.362</td>\n",
       "    </tr>\n",
       "  </tbody>\n",
       "</table>\n",
       "</div>"
      ],
      "text/plain": [
       "   song_duration_ms  acousticness  danceability  energy  instrumentalness  \\\n",
       "0          0.205673      0.092100         0.720   0.802          0.000000   \n",
       "1         -0.240409      0.737000         0.483   0.412          0.000000   \n",
       "2         -0.125770      0.274000         0.671   0.565          0.000065   \n",
       "3         -0.580967      0.002340         0.704   0.529          0.874000   \n",
       "4         -0.688566      0.000414         0.354   0.910          0.205000   \n",
       "\n",
       "        key  liveness  loudness  audio_mode  speechiness     tempo  \\\n",
       "0  0.090909     0.694  0.431778           1       0.0582  0.103876   \n",
       "1  0.636364     0.116 -0.262732           1       0.0402  1.711532   \n",
       "2  1.000000     0.370  0.013612           0       0.1600  1.009176   \n",
       "3  1.000000     0.370 -0.266382           0       0.0416  0.666173   \n",
       "4  0.090909     0.456  0.422914           1       0.0430  1.182630   \n",
       "\n",
       "   time_signature  audio_valence  \n",
       "0             0.8          0.723  \n",
       "1             0.6          0.247  \n",
       "2             0.8          0.561  \n",
       "3             0.8          0.507  \n",
       "4             0.8          0.362  "
      ]
     },
     "metadata": {},
     "output_type": "display_data"
    }
   ],
   "source": [
    "df_X_training.head(5)"
   ]
  },
  {
   "cell_type": "code",
   "execution_count": null,
   "metadata": {},
   "outputs": [
    {
     "data": {
      "text/html": [
       "<div>\n",
       "<style scoped>\n",
       "    .dataframe tbody tr th:only-of-type {\n",
       "        vertical-align: middle;\n",
       "    }\n",
       "\n",
       "    .dataframe tbody tr th {\n",
       "        vertical-align: top;\n",
       "    }\n",
       "\n",
       "    .dataframe thead th {\n",
       "        text-align: right;\n",
       "    }\n",
       "</style>\n",
       "<table border=\"1\" class=\"dataframe\">\n",
       "  <thead>\n",
       "    <tr style=\"text-align: right;\">\n",
       "      <th></th>\n",
       "      <th>song_popularity</th>\n",
       "    </tr>\n",
       "  </thead>\n",
       "  <tbody>\n",
       "    <tr>\n",
       "      <th>0</th>\n",
       "      <td>79.0</td>\n",
       "    </tr>\n",
       "    <tr>\n",
       "      <th>1</th>\n",
       "      <td>86.0</td>\n",
       "    </tr>\n",
       "    <tr>\n",
       "      <th>2</th>\n",
       "      <td>63.0</td>\n",
       "    </tr>\n",
       "    <tr>\n",
       "      <th>3</th>\n",
       "      <td>25.0</td>\n",
       "    </tr>\n",
       "    <tr>\n",
       "      <th>4</th>\n",
       "      <td>35.0</td>\n",
       "    </tr>\n",
       "  </tbody>\n",
       "</table>\n",
       "</div>"
      ],
      "text/plain": [
       "   song_popularity\n",
       "0             79.0\n",
       "1             86.0\n",
       "2             63.0\n",
       "3             25.0\n",
       "4             35.0"
      ]
     },
     "metadata": {},
     "output_type": "display_data"
    }
   ],
   "source": [
    "df_y_training.head(5)"
   ]
  },
  {
   "cell_type": "markdown",
   "metadata": {},
   "source": [
    "## 2.3 Features"
   ]
  },
  {
   "cell_type": "code",
   "execution_count": null,
   "metadata": {},
   "outputs": [],
   "source": [
    "features = ['song_duration_ms', 'acousticness', 'danceability', 'energy',\n",
    "       'instrumentalness', 'key', 'liveness', 'loudness', 'audio_mode',\n",
    "       'speechiness', 'tempo', 'time_signature', 'audio_valence']\n",
    "\n",
    "label = ['song_popularity']\n",
    "\n",
    "X_train = df_X_training.loc[:, features]\n",
    "y_train = df_y_training.values.ravel()\n",
    "X_test = df_X_test.loc[:, features]\n",
    "y_test = df_y_test.values.ravel()\n",
    "X_validation = df_X_validation.loc[:, features]\n",
    "y_validation = df_y_validation.values.ravel()"
   ]
  },
  {
   "cell_type": "markdown",
   "metadata": {},
   "source": [
    "## 2.4 Training"
   ]
  },
  {
   "cell_type": "markdown",
   "metadata": {},
   "source": [
    "### 2.4.1 Encontrar o melhor valor para n_estimators e max_depth"
   ]
  },
  {
   "cell_type": "code",
   "execution_count": null,
   "metadata": {},
   "outputs": [],
   "source": [
    "# Parametros de busca\n",
    "param_grid = {\n",
    "    'n_estimators': [50, 100, 150],  # Número de árvores na floresta\n",
    "    'max_depth': [None, 10, 20, 30],  # Profundidade máxima da árvore\n",
    "}\n",
    "\n",
    "# Configuração do modelo e da busca em grade com validação cruzada\n",
    "model = en.RandomForestRegressor(random_state=0)\n",
    "grid_search = GridSearchCV(\n",
    "    estimator=model, \n",
    "    param_grid=param_grid, \n",
    "    cv=5, \n",
    "    scoring='neg_mean_squared_error',\n",
    "    n_jobs=-1  # Usa todos os núcleos\n",
    ")\n",
    "\n",
    "# Execução da busca e obtenção do melhor modelo\n",
    "grid_search.fit(X_train, y_train)\n",
    "best_params = grid_search.best_params_\n",
    "best_score = np.sqrt(-grid_search.best_score_)  # Converte para RMSE (raiz do MSE)\n",
    "print(f\"Melhores parâmetros encontrados: {best_params}\")\n",
    "print(f\"Melhor RMSE: {best_score:.2f}\")"
   ]
  },
  {
   "cell_type": "markdown",
   "metadata": {},
   "source": [
    "### 2.4.2 Treinamento usando os melhores valores de n_estimators e max_depth"
   ]
  },
  {
   "cell_type": "code",
   "execution_count": null,
   "metadata": {},
   "outputs": [],
   "source": [
    "# Model definition\n",
    "best_model = en.RandomForestRegressor(**best_params, random_state=0)\n",
    "\n",
    "# Model Fit (ajuste, treinamento)\n",
    "best_model.fit(X_train, y_train)\n",
    "\n",
    "# Previsao\n",
    "y_pred_train = best_model.predict(X_train)\n",
    "y_pred_test = best_model.predict(X_test)\n",
    "y_pred_validation = best_model.predict(X_validation)"
   ]
  },
  {
   "cell_type": "markdown",
   "metadata": {},
   "source": [
    "## 2.5 Performance"
   ]
  },
  {
   "cell_type": "markdown",
   "metadata": {},
   "source": [
    "### 2.5.1 Perfomance sobre dados de Treino"
   ]
  },
  {
   "cell_type": "code",
   "execution_count": null,
   "metadata": {},
   "outputs": [
    {
     "name": "stdout",
     "output_type": "stream",
     "text": [
      "Métricas no Conjunto de Treinamento:\n",
      "R2: 0.9042365881483294\n",
      "MSE: 45.776\n",
      "RMSE: 6.7658047305267885\n",
      "MAE: 4.833\n",
      "MAPE: 2.601\n"
     ]
    }
   ],
   "source": [
    "print(\"Métricas no Conjunto de Treinamento:\")\n",
    "print('R2:', mt.r2_score(y_train, y_pred_train))\n",
    "print('MSE:', np.round(mt.mean_squared_error(y_train, y_pred_train), 3))\n",
    "print('RMSE:', np.sqrt(mt.mean_squared_error(y_train, y_pred_train)))\n",
    "print('MAE:', np.round(mt.mean_absolute_error(y_train, y_pred_train), 3))\n",
    "print('MAPE:', np.round(mt.mean_absolute_percentage_error(y_train, y_pred_train), 3))"
   ]
  },
  {
   "cell_type": "markdown",
   "metadata": {},
   "source": [
    "### 2.5.2 Perfomance sobre dados de Validacao"
   ]
  },
  {
   "cell_type": "code",
   "execution_count": null,
   "metadata": {},
   "outputs": [
    {
     "name": "stdout",
     "output_type": "stream",
     "text": [
      "\n",
      "Métricas no Conjunto de Validação:\n",
      "R2: 0.3369674034297767\n",
      "MSE: 316.606\n",
      "RMSE: 17.793419119662143\n",
      "MAE: 12.978\n",
      "MAPE: 7.058\n"
     ]
    }
   ],
   "source": [
    "print(\"\\nMétricas no Conjunto de Validação:\")\n",
    "print('R2:', mt.r2_score(y_validation, y_pred_validation))\n",
    "print('MSE:', np.round(mt.mean_squared_error(y_validation, y_pred_validation), 3))\n",
    "print('RMSE:', np.sqrt(mt.mean_squared_error(y_validation, y_pred_validation)))\n",
    "print('MAE:', np.round(mt.mean_absolute_error(y_validation, y_pred_validation), 3))\n",
    "print('MAPE:', np.round(mt.mean_absolute_percentage_error(y_validation, y_pred_validation), 3))"
   ]
  },
  {
   "cell_type": "markdown",
   "metadata": {},
   "source": [
    "### 2.5.3 Perfomance sobre dados de Teste"
   ]
  },
  {
   "cell_type": "code",
   "execution_count": null,
   "metadata": {},
   "outputs": [
    {
     "name": "stdout",
     "output_type": "stream",
     "text": [
      "\n",
      "Métricas no Conjunto de Teste:\n",
      "R2: 0.35358530928608634\n",
      "MSE: 314.74\n",
      "RMSE: 17.740911581324205\n",
      "MAE: 13.032\n",
      "MAPE: 6.529\n"
     ]
    }
   ],
   "source": [
    "print(\"\\nMétricas no Conjunto de Teste:\")\n",
    "print('R2:', mt.r2_score(y_test, y_pred_test))\n",
    "print('MSE:', np.round(mt.mean_squared_error(y_test, y_pred_test), 3))\n",
    "print('RMSE:', np.sqrt(mt.mean_squared_error(y_test, y_pred_test)))\n",
    "print('MAE:', np.round(mt.mean_absolute_error(y_test, y_pred_test), 3))\n",
    "print('MAPE:', np.round(mt.mean_absolute_percentage_error(y_test, y_pred_test), 3))"
   ]
  },
  {
   "cell_type": "markdown",
   "metadata": {},
   "source": [
    "# 3.0 Regressao Polinomial"
   ]
  },
  {
   "cell_type": "markdown",
   "metadata": {},
   "source": [
    "## 3.1 Imports"
   ]
  },
  {
   "cell_type": "code",
   "execution_count": null,
   "metadata": {},
   "outputs": [],
   "source": [
    "import numpy                                        as np\n",
    "import pandas                                       as pd\n",
    "\n",
    "from sklearn                 import metrics         as mt\n",
    "from sklearn                 import preprocessing   as pp\n",
    "from sklearn                 import linear_model    as lm\n",
    "from sklearn.preprocessing   import StandardScaler, PolynomialFeatures\n",
    "from sklearn.model_selection import cross_val_score\n",
    "\n",
    "from matplotlib              import pyplot          as plt"
   ]
  },
  {
   "cell_type": "markdown",
   "metadata": {},
   "source": [
    "## 3.2 Load Dataset"
   ]
  },
  {
   "cell_type": "code",
   "execution_count": null,
   "metadata": {},
   "outputs": [],
   "source": [
    "# X training / test / validation\n",
    "path_X_training = './training_test_validation(1)/X_training (1).csv'\n",
    "df_X_training = pd.read_csv(path_X_training)\n",
    "path_X_test = './training_test_validation(1)/X_test (1).csv'\n",
    "df_X_test = pd.read_csv(path_X_test)\n",
    "path_X_validation = './training_test_validation(1)/X_validation (1).csv'\n",
    "df_X_validation = pd.read_csv(path_X_validation)\n",
    "\n",
    "# Y training / test / validation\n",
    "path_y_training = './training_test_validation(1)/y_training (1).csv'\n",
    "df_y_training = pd.read_csv(path_y_training)\n",
    "path_y_test = './training_test_validation(1)/y_test (1).csv'\n",
    "df_y_test = pd.read_csv(path_y_test)\n",
    "path_y_validation = './training_test_validation(1)/y_val.csv'\n",
    "df_y_validation = pd.read_csv(path_y_validation)\n",
    "\n"
   ]
  },
  {
   "cell_type": "code",
   "execution_count": null,
   "metadata": {},
   "outputs": [],
   "source": [
    "df_X_training.head(5)"
   ]
  },
  {
   "cell_type": "code",
   "execution_count": null,
   "metadata": {},
   "outputs": [],
   "source": [
    "df_y_training.head(5)"
   ]
  },
  {
   "cell_type": "markdown",
   "metadata": {},
   "source": [
    "## 3.3 Features"
   ]
  },
  {
   "cell_type": "code",
   "execution_count": null,
   "metadata": {},
   "outputs": [],
   "source": [
    "features = ['song_duration_ms', 'acousticness', 'danceability', 'energy',\n",
    "       'instrumentalness', 'key', 'liveness', 'loudness', 'audio_mode',\n",
    "       'speechiness', 'tempo', 'time_signature', 'audio_valence']\n",
    "\n",
    "label = ['song_popularity']\n",
    "\n",
    "X_train = df_X_training.loc[:, features]\n",
    "y_train = df_y_training.loc[:, label]\n",
    "X_test = df_X_test.loc[:, features]\n",
    "y_test = df_y_test.loc[:, label]\n",
    "X_validation = df_X_validation.loc[:, features]\n",
    "y_validation = df_y_validation.loc[:, label]"
   ]
  },
  {
   "cell_type": "markdown",
   "metadata": {},
   "source": [
    "### 3.3.1 Pre-processamento Normalizacao"
   ]
  },
  {
   "cell_type": "code",
   "execution_count": null,
   "metadata": {},
   "outputs": [],
   "source": [
    "scaler = StandardScaler()\n",
    "\n",
    "# Ajustar o escalador apenas no conjunto de treinamento\n",
    "X_train_scaled = scaler.fit_transform(X_train)\n",
    "\n",
    "# Aplicar a transformação ao conjunto de teste e validação\n",
    "X_test_scaled = scaler.transform(X_test)\n",
    "X_validation_scaled = scaler.transform(X_validation)"
   ]
  },
  {
   "cell_type": "markdown",
   "metadata": {},
   "source": [
    "## 3.4 Training"
   ]
  },
  {
   "cell_type": "markdown",
   "metadata": {},
   "source": [
    "### 3.4.1 Encontrar o melhor valor para degrees"
   ]
  },
  {
   "cell_type": "code",
   "execution_count": null,
   "metadata": {},
   "outputs": [],
   "source": [
    "# Faixa de graus a serem testados\n",
    "degrees = range(1, 5)\n",
    "\n",
    "train_rmse = []\n",
    "cv_rmse = []\n",
    "\n",
    "for i in degrees:\n",
    "    poly = PolynomialFeatures(degree=i, include_bias=False)\n",
    "    X_train_poly = poly.fit_transform(X_train_scaled)\n",
    "    \n",
    "    # Modelo de regressão\n",
    "    model = lm.LinearRegression()\n",
    "    \n",
    "    # Validação cruzada\n",
    "    scores = cross_val_score(\n",
    "        model, X_train_poly, y_train, cv=5, scoring=\"neg_mean_squared_error\"\n",
    "    )\n",
    "    \n",
    "    # Ajuste no conjunto de treinamento para medir RMSE no treino\n",
    "    model.fit(X_train_poly, y_train)\n",
    "    train_pred = model.predict(X_train_poly)\n",
    "    train_rmse.append(np.sqrt(mt.mean_squared_error(y_train, train_pred)))\n",
    "    \n",
    "    # RMSE médio no conjunto de validação\n",
    "    mean_cv_rmse = np.sqrt(-np.mean(scores))\n",
    "    cv_rmse.append(mean_cv_rmse)\n",
    "\n",
    "# Encontrar o melhor grau\n",
    "best_degree = degrees[np.argmin(cv_rmse)]\n",
    "\n",
    "# Exibir resultados\n",
    "print(\"Melhor grau encontrado:\", best_degree)\n",
    "print(\"RMSE no conjunto de validação:\", cv_rmse[np.argmin(cv_rmse)])\n",
    "print(\"RMSE no conjunto de treino:\", train_rmse[np.argmin(cv_rmse)])"
   ]
  },
  {
   "cell_type": "markdown",
   "metadata": {},
   "source": [
    "### 3.4.2 Visualizar resultados"
   ]
  },
  {
   "cell_type": "code",
   "execution_count": null,
   "metadata": {},
   "outputs": [],
   "source": [
    "plt.figure(figsize=(10, 6))\n",
    "plt.plot(degrees, train_rmse, label=\"Train RMSE\", marker=\"o\")\n",
    "plt.plot(degrees, cv_rmse, label=\"Validation RMSE\", marker=\"o\")\n",
    "plt.xlabel(\"Degree\")\n",
    "plt.ylabel(\"RMSE\")\n",
    "plt.title(\"RMSE vs. Degree\")\n",
    "plt.legend()\n",
    "plt.show()"
   ]
  },
  {
   "cell_type": "markdown",
   "metadata": {},
   "source": [
    "## 3.5 Performance"
   ]
  },
  {
   "cell_type": "markdown",
   "metadata": {},
   "source": [
    "### 3.5.1 Perfomance sobre dados de Treino"
   ]
  },
  {
   "cell_type": "code",
   "execution_count": null,
   "metadata": {},
   "outputs": [],
   "source": [
    "# Criar o polinômio com o melhor grau\n",
    "poly = pp.PolynomialFeatures(degree=2, include_bias=False)\n",
    "\n",
    "X_train_poly = poly.fit_transform(X_train_scaled)\n",
    "X_test_poly = poly.transform(X_test_scaled)\n",
    "X_validation_poly = poly.transform(X_validation_scaled)\n",
    "\n",
    "# Criar o modelo de regressão linear\n",
    "model = lm.LinearRegression()\n",
    "\n",
    "# Treinar o modelo\n",
    "model.fit(X_train_poly, y_train)\n",
    "\n",
    "# Fazer previsões\n",
    "y_pred_train = model.predict(X_train_poly)\n",
    "y_pred_test = model.predict(X_test_poly)\n",
    "y_pred_validation = model.predict(X_validation_poly)"
   ]
  },
  {
   "cell_type": "code",
   "execution_count": null,
   "metadata": {},
   "outputs": [],
   "source": [
    "print(\"Métricas no Conjunto de Treinamento:\")\n",
    "print('R2:', mt.r2_score(y_train, y_pred_train))\n",
    "print('MSE:', np.round(mt.mean_squared_error(y_train, y_pred_train), 3))\n",
    "print('RMSE:', np.sqrt(mt.mean_squared_error(y_train, y_pred_train)))\n",
    "print('MAE:', np.round(mt.mean_absolute_error(y_train, y_pred_train), 3))\n",
    "print('MAPE:', np.round(mt.mean_absolute_percentage_error(y_train, y_pred_train), 3))"
   ]
  },
  {
   "cell_type": "markdown",
   "metadata": {},
   "source": [
    "### 3.5.2 Perfomance sobre dados de Validacao"
   ]
  },
  {
   "cell_type": "code",
   "execution_count": null,
   "metadata": {},
   "outputs": [],
   "source": [
    "print(\"\\nMétricas no Conjunto de Validação:\")\n",
    "print('R2:', mt.r2_score(y_validation, y_pred_validation))\n",
    "print('MSE:', np.round(mt.mean_squared_error(y_validation, y_pred_validation), 3))\n",
    "print('RMSE:', np.sqrt(mt.mean_squared_error(y_validation, y_pred_validation)))\n",
    "print('MAE:', np.round(mt.mean_absolute_error(y_validation, y_pred_validation), 3))\n",
    "print('MAPE:', np.round(mt.mean_absolute_percentage_error(y_validation, y_pred_validation), 3))"
   ]
  },
  {
   "cell_type": "markdown",
   "metadata": {},
   "source": [
    "### 3.5.3 Perfomance sobre dados de Teste"
   ]
  },
  {
   "cell_type": "code",
   "execution_count": null,
   "metadata": {},
   "outputs": [],
   "source": [
    "print(\"\\nMétricas no Conjunto de Teste:\")\n",
    "print('R2:', mt.r2_score(y_test, y_pred_test))\n",
    "print('MSE:', np.round(mt.mean_squared_error(y_test, y_pred_test), 3))\n",
    "print('RMSE:', np.sqrt(mt.mean_squared_error(y_test, y_pred_test)))\n",
    "print('MAE:', np.round(mt.mean_absolute_error(y_test, y_pred_test), 3))\n",
    "print('MAPE:', np.round(mt.mean_absolute_percentage_error(y_test, y_pred_test), 3))"
   ]
  },
  {
   "cell_type": "markdown",
   "metadata": {},
   "source": [
    "# 4.0 Regressao Linear - LASSO"
   ]
  },
  {
   "cell_type": "markdown",
   "metadata": {},
   "source": [
    "## 4.1 Imports"
   ]
  },
  {
   "cell_type": "code",
   "execution_count": null,
   "metadata": {},
   "outputs": [],
   "source": [
    "import pandas                                    as pd\n",
    "import numpy                                     as np\n",
    "\n",
    "from sklearn                 import metrics      as mt\n",
    "from sklearn                 import linear_model as lm\n",
    "from sklearn.preprocessing   import StandardScaler\n",
    "from sklearn.model_selection import GridSearchCV"
   ]
  },
  {
   "cell_type": "markdown",
   "metadata": {},
   "source": [
    "## 4.2 Load Dataset"
   ]
  },
  {
   "cell_type": "code",
   "execution_count": null,
   "metadata": {},
   "outputs": [],
   "source": [
    "# X training / test / validation\n",
    "path_X_training = './training_test_validation(1)/X_training (1).csv'\n",
    "df_X_training = pd.read_csv(path_X_training)\n",
    "path_X_test = './training_test_validation(1)/X_test (1).csv'\n",
    "df_X_test = pd.read_csv(path_X_test)\n",
    "path_X_validation = './training_test_validation(1)/X_validation (1).csv'\n",
    "df_X_validation = pd.read_csv(path_X_validation)\n",
    "\n",
    "# Y training / test / validation\n",
    "path_y_training = './training_test_validation(1)/y_training (1).csv'\n",
    "df_y_training = pd.read_csv(path_y_training)\n",
    "path_y_test = './training_test_validation(1)/y_test (1).csv'\n",
    "df_y_test = pd.read_csv(path_y_test)\n",
    "path_y_validation = './training_test_validation(1)/y_val.csv'\n",
    "df_y_validation = pd.read_csv(path_y_validation)"
   ]
  },
  {
   "cell_type": "code",
   "execution_count": null,
   "metadata": {},
   "outputs": [],
   "source": [
    "df_X_training.head(5)"
   ]
  },
  {
   "cell_type": "code",
   "execution_count": null,
   "metadata": {},
   "outputs": [],
   "source": [
    "df_y_training.head(5)"
   ]
  },
  {
   "cell_type": "markdown",
   "metadata": {},
   "source": [
    "## 4.3 Features"
   ]
  },
  {
   "cell_type": "code",
   "execution_count": null,
   "metadata": {},
   "outputs": [],
   "source": [
    "features = ['song_duration_ms', 'acousticness', 'danceability', 'energy',\n",
    "       'instrumentalness', 'key', 'liveness', 'loudness', 'audio_mode',\n",
    "       'speechiness', 'tempo', 'time_signature', 'audio_valence']\n",
    "\n",
    "label = ['song_popularity']\n",
    "\n",
    "X_train = df_X_training.loc[:, features]\n",
    "y_train = df_y_training[label].values.ravel()\n",
    "X_test = df_X_test.loc[:, features]\n",
    "y_test = df_y_test[label].values.ravel()\n",
    "X_validation = df_X_validation.loc[:, features]\n",
    "y_validation = df_y_validation[label].values.ravel()"
   ]
  },
  {
   "cell_type": "markdown",
   "metadata": {},
   "source": [
    "### 4.3.1 Pre-processamento Normalizacao"
   ]
  },
  {
   "cell_type": "code",
   "execution_count": null,
   "metadata": {},
   "outputs": [],
   "source": [
    "scaler = StandardScaler()\n",
    "\n",
    "# Ajustar o escalador apenas no conjunto de treinamento\n",
    "X_train_scaled = scaler.fit_transform(X_train)\n",
    "\n",
    "# Aplicar a transformação ao conjunto de teste e validação\n",
    "X_test_scaled = scaler.transform(X_test)\n",
    "X_validation_scaled = scaler.transform(X_validation)"
   ]
  },
  {
   "cell_type": "markdown",
   "metadata": {},
   "source": [
    "## 4.4 Training"
   ]
  },
  {
   "cell_type": "markdown",
   "metadata": {},
   "source": [
    "### 4.4.1 Encontrar o melhor valor para alpha e max_iter"
   ]
  },
  {
   "cell_type": "code",
   "execution_count": null,
   "metadata": {},
   "outputs": [],
   "source": [
    "# Parametros de busca\n",
    "param_grid = {\n",
    "    'alpha': np.logspace(-3, 3, 10),  # Faixa de regularização L1\n",
    "    'max_iter': [1000, 2000, 5000]                  # Iterações máximas\n",
    "}\n",
    "\n",
    "# Configuração do modelo e da busca em grade com validação cruzada\n",
    "model = lm.Lasso(random_state=0)\n",
    "grid_search = GridSearchCV(estimator=model, param_grid=param_grid, cv=5, scoring='neg_mean_absolute_error')\n",
    "\n",
    "# Execução da busca e obtenção do melhor modelo\n",
    "grid_search.fit(X_train_scaled, y_train)\n",
    "best_params = grid_search.best_params_\n",
    "best_rmse = np.sqrt(-grid_search.best_score_)  # RMSE a partir de MSE negativo\n",
    "\n",
    "print(f\"Melhores parâmetros encontrados: {best_params}\")\n",
    "print(f\"Melhor RMSE (validação cruzada): {best_rmse:.4f}\")"
   ]
  },
  {
   "cell_type": "markdown",
   "metadata": {},
   "source": [
    "### 4.4.2 Treinamento usando os melhores valores"
   ]
  },
  {
   "cell_type": "code",
   "execution_count": null,
   "metadata": {},
   "outputs": [],
   "source": [
    "# Model definition\n",
    "lr_model = lm.Lasso(alpha=best_params['alpha'], max_iter=best_params['max_iter'], random_state=0)\n",
    "\n",
    "# Model Fit (ajuste, treinamento)\n",
    "lr_model.fit(X_train_scaled, y_train)\n",
    "\n",
    "# Previsao\n",
    "y_pred_train = lr_model.predict(X_train_scaled)\n",
    "y_pred_test = lr_model.predict(X_test_scaled)\n",
    "y_pred_validation = lr_model.predict(X_validation_scaled)\n",
    "print(\"Coeficientes do modelo:\", lr_model.coef_)"
   ]
  },
  {
   "cell_type": "markdown",
   "metadata": {},
   "source": [
    "## 4.5 Performance"
   ]
  },
  {
   "cell_type": "markdown",
   "metadata": {},
   "source": [
    "### 4.5.1 Perfomance sobre dados de Treino"
   ]
  },
  {
   "cell_type": "code",
   "execution_count": null,
   "metadata": {},
   "outputs": [],
   "source": [
    "print(\"Métricas no Conjunto de Treinamento:\")\n",
    "print('R2:', mt.r2_score(y_train, y_pred_train))\n",
    "print('MSE:', np.round(mt.mean_squared_error(y_train, y_pred_train), 3))\n",
    "print('RMSE:', np.sqrt(mt.mean_squared_error(y_train, y_pred_train)))\n",
    "print('MAE:', np.round(mt.mean_absolute_error(y_train, y_pred_train), 3))\n",
    "print('MAPE:', np.round(mt.mean_absolute_percentage_error(y_train, y_pred_train), 3))"
   ]
  },
  {
   "cell_type": "markdown",
   "metadata": {},
   "source": [
    "### 4.5.2 Perfomance sobre dados de Validacao"
   ]
  },
  {
   "cell_type": "code",
   "execution_count": null,
   "metadata": {},
   "outputs": [],
   "source": [
    "print(\"\\nMétricas no Conjunto de Validação:\")\n",
    "print('R2:', mt.r2_score(y_validation, y_pred_validation))\n",
    "print('MSE:', np.round(mt.mean_squared_error(y_validation, y_pred_validation), 3))\n",
    "print('RMSE:', np.sqrt(mt.mean_squared_error(y_validation, y_pred_validation)))\n",
    "print('MAE:', np.round(mt.mean_absolute_error(y_validation, y_pred_validation), 3))\n",
    "print('MAPE:', np.round(mt.mean_absolute_percentage_error(y_validation, y_pred_validation), 3))"
   ]
  },
  {
   "cell_type": "markdown",
   "metadata": {},
   "source": [
    "### 4.5.3 Perfomance sobre dados de Teste"
   ]
  },
  {
   "cell_type": "code",
   "execution_count": null,
   "metadata": {},
   "outputs": [],
   "source": [
    "print(\"\\nMétricas no Conjunto de Teste:\")\n",
    "print('R2:', mt.r2_score(y_test, y_pred_test))\n",
    "print('MSE:', np.round(mt.mean_squared_error(y_test, y_pred_test), 3))\n",
    "print('RMSE:', np.sqrt(mt.mean_squared_error(y_test, y_pred_test)))\n",
    "print('MAE:', np.round(mt.mean_absolute_error(y_test, y_pred_test), 3))\n",
    "print('MAPE:', np.round(mt.mean_absolute_percentage_error(y_test, y_pred_test), 3))"
   ]
  },
  {
   "cell_type": "markdown",
   "metadata": {},
   "source": [
    "# 5.0 Regressao Linear - RIDGE\n"
   ]
  },
  {
   "cell_type": "markdown",
   "metadata": {},
   "source": [
    "## 5.1 Imports"
   ]
  },
  {
   "cell_type": "code",
   "execution_count": null,
   "metadata": {},
   "outputs": [],
   "source": [
    "import pandas                                    as pd\n",
    "import numpy                                     as np\n",
    "\n",
    "from sklearn                 import metrics      as mt\n",
    "from sklearn                 import linear_model as lm\n",
    "from sklearn.preprocessing   import StandardScaler\n",
    "from sklearn.model_selection import GridSearchCV"
   ]
  },
  {
   "cell_type": "markdown",
   "metadata": {},
   "source": [
    "## 5.2 Load Dataset"
   ]
  },
  {
   "cell_type": "code",
   "execution_count": null,
   "metadata": {},
   "outputs": [],
   "source": [
    "# X training / test / validation\n",
    "path_X_training = './training_test_validation(1)/X_training (1).csv'\n",
    "df_X_training = pd.read_csv(path_X_training)\n",
    "path_X_test = './training_test_validation(1)/X_test (1).csv'\n",
    "df_X_test = pd.read_csv(path_X_test)\n",
    "path_X_validation = './training_test_validation(1)/X_validation (1).csv'\n",
    "df_X_validation = pd.read_csv(path_X_validation)\n",
    "\n",
    "# Y training / test / validation\n",
    "path_y_training = './training_test_validation(1)/y_training (1).csv'\n",
    "df_y_training = pd.read_csv(path_y_training)\n",
    "path_y_test = './training_test_validation(1)/y_test (1).csv'\n",
    "df_y_test = pd.read_csv(path_y_test)\n",
    "path_y_validation = './training_test_validation(1)/y_val.csv'\n",
    "df_y_validation = pd.read_csv(path_y_validation)"
   ]
  },
  {
   "cell_type": "code",
   "execution_count": null,
   "metadata": {},
   "outputs": [],
   "source": [
    "df_X_training.head(5)"
   ]
  },
  {
   "cell_type": "code",
   "execution_count": null,
   "metadata": {},
   "outputs": [],
   "source": [
    "df_y_training.head(5)"
   ]
  },
  {
   "cell_type": "markdown",
   "metadata": {},
   "source": [
    "## 5.3 Features"
   ]
  },
  {
   "cell_type": "code",
   "execution_count": null,
   "metadata": {},
   "outputs": [],
   "source": [
    "features = ['song_duration_ms', 'acousticness', 'danceability', 'energy',\n",
    "       'instrumentalness', 'key', 'liveness', 'loudness', 'audio_mode',\n",
    "       'speechiness', 'tempo', 'time_signature', 'audio_valence']\n",
    "\n",
    "label = ['song_popularity']\n",
    "\n",
    "X_train = df_X_training.loc[:, features]\n",
    "y_train = df_y_training[label].values.ravel()\n",
    "X_test = df_X_test.loc[:, features]\n",
    "y_test = df_y_test[label].values.ravel()\n",
    "X_validation = df_X_validation.loc[:, features]\n",
    "y_validation = df_y_validation[label].values.ravel()"
   ]
  },
  {
   "cell_type": "markdown",
   "metadata": {},
   "source": [
    "### 5.3.1 Pre-processamento Normalizacao"
   ]
  },
  {
   "cell_type": "code",
   "execution_count": null,
   "metadata": {},
   "outputs": [],
   "source": [
    "scaler = StandardScaler()\n",
    "\n",
    "# Ajustar o escalador apenas no conjunto de treinamento\n",
    "X_train_scaled = scaler.fit_transform(X_train)\n",
    "\n",
    "# Aplicar a transformação ao conjunto de teste e validação\n",
    "X_test_scaled = scaler.transform(X_test)\n",
    "X_validation_scaled = scaler.transform(X_validation)"
   ]
  },
  {
   "cell_type": "markdown",
   "metadata": {},
   "source": [
    "## 5.4 Training"
   ]
  },
  {
   "cell_type": "markdown",
   "metadata": {},
   "source": [
    "### 5.4.1 Encontrar o melhor valor para alpha e max_iter"
   ]
  },
  {
   "cell_type": "code",
   "execution_count": null,
   "metadata": {},
   "outputs": [],
   "source": [
    "param_grid = {\n",
    "    'alpha': np.logspace(-4, 2, 20),\n",
    "    'max_iter': [1000, 2000, 5000]\n",
    "}\n",
    "\n",
    "# Configuração do modelo e da busca em grade com validação cruzada\n",
    "model = lm.Ridge(random_state=0)\n",
    "grid_search = GridSearchCV(estimator=model, param_grid=param_grid, cv=5, scoring='neg_mean_absolute_error')\n",
    "\n",
    "# Execução da busca e obtenção do melhor modelo\n",
    "grid_search.fit(X_train_scaled, y_train)\n",
    "best_params = grid_search.best_params_\n",
    "best_rmse = np.sqrt(-grid_search.best_score_)  # RMSE a partir de MSE negativo\n",
    "\n",
    "print(f\"Melhores parâmetros encontrados: {best_params}\")\n",
    "print(f\"Melhor RMSE (validação cruzada): {best_rmse:.4f}\")"
   ]
  },
  {
   "cell_type": "markdown",
   "metadata": {},
   "source": [
    "### 5.4.2 Treinamento usando os melhores valores"
   ]
  },
  {
   "cell_type": "code",
   "execution_count": null,
   "metadata": {},
   "outputs": [],
   "source": [
    "# Model definition\n",
    "lr_model = lm.Ridge(alpha=best_params['alpha'], max_iter=best_params['max_iter'], random_state=0)\n",
    "\n",
    "# Model Fit (ajuste, treinamento)\n",
    "lr_model.fit(X_train_scaled, y_train)\n",
    "\n",
    "# Previsao\n",
    "y_pred_train = lr_model.predict(X_train_scaled)\n",
    "y_pred_test = lr_model.predict(X_test_scaled)\n",
    "y_pred_validation = lr_model.predict(X_validation_scaled)\n",
    "print(\"Coeficientes do modelo:\", lr_model.coef_)"
   ]
  },
  {
   "cell_type": "markdown",
   "metadata": {},
   "source": [
    "## 5.5 Performance"
   ]
  },
  {
   "cell_type": "markdown",
   "metadata": {},
   "source": [
    "### 5.5.1 Perfomance sobre dados de Treino"
   ]
  },
  {
   "cell_type": "code",
   "execution_count": null,
   "metadata": {},
   "outputs": [],
   "source": [
    "print(\"Métricas no Conjunto de Treinamento:\")\n",
    "print('R2:', mt.r2_score(y_train, y_pred_train))\n",
    "print('MSE:', np.round(mt.mean_squared_error(y_train, y_pred_train), 3))\n",
    "print('RMSE:', np.sqrt(mt.mean_squared_error(y_train, y_pred_train)))\n",
    "print('MAE:', np.round(mt.mean_absolute_error(y_train, y_pred_train), 3))\n",
    "print('MAPE:', np.round(mt.mean_absolute_percentage_error(y_train, y_pred_train), 3))"
   ]
  },
  {
   "cell_type": "markdown",
   "metadata": {},
   "source": [
    "### 5.5.2 Perfomance sobre dados de Validacao"
   ]
  },
  {
   "cell_type": "code",
   "execution_count": null,
   "metadata": {},
   "outputs": [],
   "source": [
    "print(\"\\nMétricas no Conjunto de Validação:\")\n",
    "print('R2:', mt.r2_score(y_validation, y_pred_validation))\n",
    "print('MSE:', np.round(mt.mean_squared_error(y_validation, y_pred_validation), 3))\n",
    "print('RMSE:', np.sqrt(mt.mean_squared_error(y_validation, y_pred_validation)))\n",
    "print('MAE:', np.round(mt.mean_absolute_error(y_validation, y_pred_validation), 3))\n",
    "print('MAPE:', np.round(mt.mean_absolute_percentage_error(y_validation, y_pred_validation), 3))"
   ]
  },
  {
   "cell_type": "markdown",
   "metadata": {},
   "source": [
    "### 5.5.3 Perfomance sobre dados de Teste"
   ]
  },
  {
   "cell_type": "code",
   "execution_count": null,
   "metadata": {},
   "outputs": [],
   "source": [
    "print(\"\\nMétricas no Conjunto de Teste:\")\n",
    "print('R2:', mt.r2_score(y_test, y_pred_test))\n",
    "print('MSE:', np.round(mt.mean_squared_error(y_test, y_pred_test), 3))\n",
    "print('RMSE:', np.sqrt(mt.mean_squared_error(y_test, y_pred_test)))\n",
    "print('MAE:', np.round(mt.mean_absolute_error(y_test, y_pred_test), 3))\n",
    "print('MAPE:', np.round(mt.mean_absolute_percentage_error(y_test, y_pred_test), 3))"
   ]
  },
  {
   "cell_type": "markdown",
   "metadata": {},
   "source": [
    "# 6.0 Regressao Linear - ELASTIC NET"
   ]
  },
  {
   "cell_type": "markdown",
   "metadata": {},
   "source": [
    "## 6.1 Imports"
   ]
  },
  {
   "cell_type": "code",
   "execution_count": null,
   "metadata": {},
   "outputs": [],
   "source": [
    "import pandas                                    as pd\n",
    "import numpy                                     as np\n",
    "\n",
    "from sklearn                 import metrics      as mt\n",
    "from sklearn                 import linear_model as lm\n",
    "from sklearn.preprocessing   import StandardScaler\n",
    "from sklearn.model_selection import GridSearchCV"
   ]
  },
  {
   "cell_type": "markdown",
   "metadata": {},
   "source": [
    "## 6.2 Load Dataset"
   ]
  },
  {
   "cell_type": "code",
   "execution_count": null,
   "metadata": {},
   "outputs": [],
   "source": [
    "# X training / test / validation\n",
    "path_X_training = './training_test_validation(1)/X_training (1).csv'\n",
    "df_X_training = pd.read_csv(path_X_training)\n",
    "path_X_test = './training_test_validation(1)/X_test (1).csv'\n",
    "df_X_test = pd.read_csv(path_X_test)\n",
    "path_X_validation = './training_test_validation(1)/X_validation (1).csv'\n",
    "df_X_validation = pd.read_csv(path_X_validation)\n",
    "\n",
    "# Y training / test / validation\n",
    "path_y_training = './training_test_validation(1)/y_training (1).csv'\n",
    "df_y_training = pd.read_csv(path_y_training)\n",
    "path_y_test = './training_test_validation(1)/y_test (1).csv'\n",
    "df_y_test = pd.read_csv(path_y_test)\n",
    "path_y_validation = './training_test_validation(1)/y_val.csv'\n",
    "df_y_validation = pd.read_csv(path_y_validation)"
   ]
  },
  {
   "cell_type": "code",
   "execution_count": null,
   "metadata": {},
   "outputs": [],
   "source": [
    "df_X_training.head(5)"
   ]
  },
  {
   "cell_type": "code",
   "execution_count": null,
   "metadata": {},
   "outputs": [],
   "source": [
    "df_y_training.head(5)"
   ]
  },
  {
   "cell_type": "markdown",
   "metadata": {},
   "source": [
    "## 6.3 Features"
   ]
  },
  {
   "cell_type": "code",
   "execution_count": null,
   "metadata": {},
   "outputs": [],
   "source": [
    "features = ['song_duration_ms', 'acousticness', 'danceability', 'energy',\n",
    "       'instrumentalness', 'key', 'liveness', 'loudness', 'audio_mode',\n",
    "       'speechiness', 'tempo', 'time_signature', 'audio_valence']\n",
    "\n",
    "label = ['song_popularity']\n",
    "\n",
    "X_train = df_X_training.loc[:, features]\n",
    "y_train = df_y_training[label].values.ravel()\n",
    "X_test = df_X_test.loc[:, features]\n",
    "y_test = df_y_test[label].values.ravel()\n",
    "X_validation = df_X_validation.loc[:, features]\n",
    "y_validation = df_y_validation[label].values.ravel()"
   ]
  },
  {
   "cell_type": "markdown",
   "metadata": {},
   "source": [
    "### 6.3.1 Pre-processamento Normalizacao"
   ]
  },
  {
   "cell_type": "code",
   "execution_count": null,
   "metadata": {},
   "outputs": [],
   "source": [
    "scaler = StandardScaler()\n",
    "\n",
    "# Ajustar o escalador apenas no conjunto de treinamento\n",
    "X_train_scaled = scaler.fit_transform(X_train)\n",
    "\n",
    "# Aplicar a transformação ao conjunto de teste e validação\n",
    "X_test_scaled = scaler.transform(X_test)\n",
    "X_validation_scaled = scaler.transform(X_validation)"
   ]
  },
  {
   "cell_type": "markdown",
   "metadata": {},
   "source": [
    "## 6.4 Training"
   ]
  },
  {
   "cell_type": "markdown",
   "metadata": {},
   "source": [
    "### 6.4.1 Encontrar o melhor valor para alpha, max_iter e l1_ratio"
   ]
  },
  {
   "cell_type": "code",
   "execution_count": null,
   "metadata": {},
   "outputs": [],
   "source": [
    "# Parametros de busca\n",
    "param_grid = {\n",
    "    'alpha': np.logspace(-4, 2, 20),       # Faixa de regularização L1\n",
    "    'l1_ratio': np.linspace(0.1, 0.9, 9),  # Proporção de regularização L1\n",
    "    'max_iter': [1000, 2000, 5000]         # Iterações máximas\n",
    "}\n",
    "\n",
    "# Configuração do modelo e da busca em grade com validação cruzada\n",
    "model = lm.ElasticNet(random_state=0)\n",
    "grid_search = GridSearchCV(estimator=model, param_grid=param_grid, cv=5, scoring='neg_mean_absolute_error')\n",
    "\n",
    "# Execução da busca e obtenção do melhor modelo\n",
    "grid_search.fit(X_train_scaled, y_train)\n",
    "best_params = grid_search.best_params_\n",
    "best_rmse = np.sqrt(-grid_search.best_score_)  # RMSE a partir de MSE negativo\n",
    "\n",
    "print(f\"Melhores parâmetros encontrados: {best_params}\")\n",
    "print(f\"Melhor RMSE (validação cruzada): {best_rmse:.4f}\")"
   ]
  },
  {
   "cell_type": "markdown",
   "metadata": {},
   "source": [
    "## 6.5 Performance"
   ]
  },
  {
   "cell_type": "markdown",
   "metadata": {},
   "source": [
    "### 6.5.1 Perfomance sobre dados de Treino"
   ]
  },
  {
   "cell_type": "code",
   "execution_count": null,
   "metadata": {},
   "outputs": [],
   "source": [
    "# Model definition\n",
    "lr_model = lm.ElasticNet(alpha=best_params['alpha'], \n",
    "                         max_iter=best_params['max_iter'], \n",
    "                         l1_ratio=best_params['l1_ratio'])\n",
    "\n",
    "# Model Fit (ajuste, treinamento)\n",
    "lr_model.fit(X_train_scaled, y_train)\n",
    "\n",
    "# Previsao\n",
    "y_pred_train = lr_model.predict(X_train_scaled)\n",
    "y_pred_test = lr_model.predict(X_test_scaled)\n",
    "y_pred_validation = lr_model.predict(X_validation_scaled)"
   ]
  },
  {
   "cell_type": "code",
   "execution_count": null,
   "metadata": {},
   "outputs": [],
   "source": [
    "print(\"Métricas no Conjunto de Treinamento:\")\n",
    "print('R2:', mt.r2_score(y_train, y_pred_train))\n",
    "print('MSE:', np.round(mt.mean_squared_error(y_train, y_pred_train), 3))\n",
    "print('RMSE:', np.sqrt(mt.mean_squared_error(y_train, y_pred_train)))\n",
    "print('MAE:', np.round(mt.mean_absolute_error(y_train, y_pred_train), 3))\n",
    "print('MAPE:', np.round(mt.mean_absolute_percentage_error(y_train, y_pred_train), 3))"
   ]
  },
  {
   "cell_type": "markdown",
   "metadata": {},
   "source": [
    "### 6.5.2 Perfomance sobre dados de Validacao"
   ]
  },
  {
   "cell_type": "code",
   "execution_count": null,
   "metadata": {},
   "outputs": [],
   "source": [
    "print(\"\\nMétricas no Conjunto de Validação:\")\n",
    "print('R2:', mt.r2_score(y_validation, y_pred_validation))\n",
    "print('MSE:', np.round(mt.mean_squared_error(y_validation, y_pred_validation), 3))\n",
    "print('RMSE:', np.sqrt(mt.mean_squared_error(y_validation, y_pred_validation)))\n",
    "print('MAE:', np.round(mt.mean_absolute_error(y_validation, y_pred_validation), 3))\n",
    "print('MAPE:', np.round(mt.mean_absolute_percentage_error(y_validation, y_pred_validation), 3))"
   ]
  },
  {
   "cell_type": "markdown",
   "metadata": {},
   "source": [
    "### 6.5.3 Perfomance sobre dados de Teste"
   ]
  },
  {
   "cell_type": "code",
   "execution_count": null,
   "metadata": {},
   "outputs": [],
   "source": [
    "print(\"\\nMétricas no Conjunto de Teste:\")\n",
    "print('R2:', mt.r2_score(y_test, y_pred_test))\n",
    "print('MSE:', np.round(mt.mean_squared_error(y_test, y_pred_test), 3))\n",
    "print('RMSE:', np.sqrt(mt.mean_squared_error(y_test, y_pred_test)))\n",
    "print('MAE:', np.round(mt.mean_absolute_error(y_test, y_pred_test), 3))\n",
    "print('MAPE:', np.round(mt.mean_absolute_percentage_error(y_test, y_pred_test), 3))"
   ]
  },
  {
   "cell_type": "markdown",
   "metadata": {},
   "source": [
    "# 7.0 Regressao Polinomial - Lasso\n"
   ]
  },
  {
   "cell_type": "markdown",
   "metadata": {},
   "source": [
    "### (nao executar - paramgrid usando todos os nucleos)\n",
    "### Melhores parâmetros encontrados: {'alpha': 0.1, 'max_iter': 5000}"
   ]
  },
  {
   "cell_type": "markdown",
   "metadata": {},
   "source": [
    "## 7.1 Imports"
   ]
  },
  {
   "cell_type": "code",
   "execution_count": null,
   "metadata": {},
   "outputs": [],
   "source": [
    "import numpy                                        as np\n",
    "import pandas                                       as pd\n",
    "\n",
    "from sklearn                 import metrics         as mt\n",
    "from sklearn                 import preprocessing   as pp\n",
    "from sklearn                 import linear_model    as lm\n",
    "from sklearn.preprocessing   import StandardScaler\n",
    "from sklearn.model_selection import GridSearchCV"
   ]
  },
  {
   "cell_type": "markdown",
   "metadata": {},
   "source": [
    "## 7.2 Load Dataset"
   ]
  },
  {
   "cell_type": "code",
   "execution_count": null,
   "metadata": {},
   "outputs": [],
   "source": [
    "# X training / test / validation\n",
    "path_X_training = './training_test_validation(1)/X_training (1).csv'\n",
    "df_X_training = pd.read_csv(path_X_training)\n",
    "path_X_test = './training_test_validation(1)/X_test (1).csv'\n",
    "df_X_test = pd.read_csv(path_X_test)\n",
    "path_X_validation = './training_test_validation(1)/X_validation (1).csv'\n",
    "df_X_validation = pd.read_csv(path_X_validation)\n",
    "\n",
    "# Y training / test / validation\n",
    "path_y_training = './training_test_validation(1)/y_training (1).csv'\n",
    "df_y_training = pd.read_csv(path_y_training)\n",
    "path_y_test = './training_test_validation(1)/y_test (1).csv'\n",
    "df_y_test = pd.read_csv(path_y_test)\n",
    "path_y_validation = './training_test_validation(1)/y_val.csv'\n",
    "df_y_validation = pd.read_csv(path_y_validation)\n",
    "\n"
   ]
  },
  {
   "cell_type": "code",
   "execution_count": null,
   "metadata": {},
   "outputs": [],
   "source": [
    "df_X_training.head(5)"
   ]
  },
  {
   "cell_type": "code",
   "execution_count": null,
   "metadata": {},
   "outputs": [],
   "source": [
    "df_y_training.head(5)"
   ]
  },
  {
   "cell_type": "markdown",
   "metadata": {},
   "source": [
    "## 7.3 Features"
   ]
  },
  {
   "cell_type": "code",
   "execution_count": null,
   "metadata": {},
   "outputs": [],
   "source": [
    "features = ['song_duration_ms', 'acousticness', 'danceability', 'energy',\n",
    "       'instrumentalness', 'key', 'liveness', 'loudness', 'audio_mode',\n",
    "       'speechiness', 'tempo', 'time_signature', 'audio_valence']\n",
    "\n",
    "label = ['song_popularity']\n",
    "\n",
    "X_train = df_X_training.loc[:, features]\n",
    "y_train = df_y_training[label].values.ravel()\n",
    "X_test = df_X_test.loc[:, features]\n",
    "y_test = df_y_test[label].values.ravel()\n",
    "X_validation = df_X_validation.loc[:, features]\n",
    "y_validation = df_y_validation[label].values.ravel()"
   ]
  },
  {
   "cell_type": "markdown",
   "metadata": {},
   "source": [
    "### 7.3.1 Pre-processamento Normalizacao"
   ]
  },
  {
   "cell_type": "code",
   "execution_count": null,
   "metadata": {},
   "outputs": [],
   "source": [
    "# Escalonamento dos dados\n",
    "scaler = StandardScaler()\n",
    "\n",
    "X_train_scaled = scaler.fit_transform(X_train)\n",
    "X_test_scaled = scaler.transform(X_test)\n",
    "X_validation_scaled = scaler.transform(X_validation)"
   ]
  },
  {
   "cell_type": "markdown",
   "metadata": {},
   "source": [
    "## 7.4 Training"
   ]
  },
  {
   "cell_type": "markdown",
   "metadata": {},
   "source": [
    "### 7.4.1 Encontrar o melhor valor para degree, alpha e max_iter"
   ]
  },
  {
   "cell_type": "code",
   "execution_count": null,
   "metadata": {},
   "outputs": [],
   "source": [
    "# Criar o polinômio com o melhor grau\n",
    "poly = pp.PolynomialFeatures(degree=3, include_bias=False)\n",
    "\n",
    "# Gerar as features polinomiais\n",
    "X_train_poly = poly.fit_transform(X_train_scaled)\n",
    "X_test_poly = poly.transform(X_test_scaled)\n",
    "X_validation_poly = poly.transform(X_validation_scaled)"
   ]
  },
  {
   "cell_type": "code",
   "execution_count": null,
   "metadata": {},
   "outputs": [],
   "source": [
    "param_grid = {\n",
    "    'alpha': np.logspace(-3, 1, 5),\n",
    "    'max_iter': [1000, 5000],\n",
    "}\n",
    "\n",
    "grid_search = GridSearchCV(\n",
    "    estimator=lm.Lasso(random_state=0),\n",
    "    param_grid=param_grid,\n",
    "    cv=5,\n",
    "    scoring='neg_mean_absolute_error'\n",
    ")\n",
    "\n",
    "grid_search.fit(X_train_poly, y_train)\n",
    "    \n",
    "best_params = grid_search.best_params_\n",
    "best_rmse = np.sqrt(-grid_search.best_score_)\n",
    "\n",
    "print(f\"Melhores parâmetros encontrados: {best_params}\")\n",
    "print(f\"Melhor RMSE (validação cruzada): {best_rmse:.3f}\")"
   ]
  },
  {
   "cell_type": "markdown",
   "metadata": {},
   "source": [
    "## 7.5 Performance"
   ]
  },
  {
   "cell_type": "markdown",
   "metadata": {},
   "source": [
    "### 7.5.1 Perfomance sobre dados de Treino"
   ]
  },
  {
   "cell_type": "code",
   "execution_count": null,
   "metadata": {},
   "outputs": [],
   "source": [
    "# Criar o modelo de regressão lasso\n",
    "model = lm.Lasso(alpha=0.1, max_iter=5000, random_state=0)\n",
    "\n",
    "# Treinar o modelo\n",
    "model.fit(X_train_poly, y_train)\n",
    "\n",
    "# Fazer previsões\n",
    "y_pred_train = model.predict(X_train_poly)\n",
    "y_pred_test = model.predict(X_test_poly)\n",
    "y_pred_validation = model.predict(X_validation_poly)"
   ]
  },
  {
   "cell_type": "code",
   "execution_count": null,
   "metadata": {},
   "outputs": [],
   "source": [
    "print(\"Métricas no Conjunto de Treinamento:\")\n",
    "print('R2:', mt.r2_score(y_train, y_pred_train))\n",
    "print('MSE:', np.round(mt.mean_squared_error(y_train, y_pred_train), 3))\n",
    "print('RMSE:', np.sqrt(mt.mean_squared_error(y_train, y_pred_train)))\n",
    "print('MAE:', np.round(mt.mean_absolute_error(y_train, y_pred_train), 3))\n",
    "print('MAPE:', np.round(mt.mean_absolute_percentage_error(y_train, y_pred_train), 3))"
   ]
  },
  {
   "cell_type": "markdown",
   "metadata": {},
   "source": [
    "### 7.5.2 Perfomance sobre dados de Validacao"
   ]
  },
  {
   "cell_type": "code",
   "execution_count": null,
   "metadata": {},
   "outputs": [],
   "source": [
    "print(\"\\nMétricas no Conjunto de Validação:\")\n",
    "print('R2:', mt.r2_score(y_validation, y_pred_validation))\n",
    "print('MSE:', np.round(mt.mean_squared_error(y_validation, y_pred_validation), 3))\n",
    "print('RMSE:', np.sqrt(mt.mean_squared_error(y_validation, y_pred_validation)))\n",
    "print('MAE:', np.round(mt.mean_absolute_error(y_validation, y_pred_validation), 3))\n",
    "print('MAPE:', np.round(mt.mean_absolute_percentage_error(y_validation, y_pred_validation), 3))"
   ]
  },
  {
   "cell_type": "markdown",
   "metadata": {},
   "source": [
    "### 7.5.3 Perfomance sobre dados de Teste"
   ]
  },
  {
   "cell_type": "code",
   "execution_count": null,
   "metadata": {},
   "outputs": [],
   "source": [
    "print(\"\\nMétricas no Conjunto de Teste:\")\n",
    "print('R2:', mt.r2_score(y_test, y_pred_test))\n",
    "print('MSE:', np.round(mt.mean_squared_error(y_test, y_pred_test), 3))\n",
    "print('RMSE:', np.sqrt(mt.mean_squared_error(y_test, y_pred_test)))\n",
    "print('MAE:', np.round(mt.mean_absolute_error(y_test, y_pred_test), 3))\n",
    "print('MAPE:', np.round(mt.mean_absolute_percentage_error(y_test, y_pred_test), 3))"
   ]
  },
  {
   "cell_type": "markdown",
   "metadata": {},
   "source": [
    "# 8.0 Regressao Polinomial - Ridge"
   ]
  },
  {
   "cell_type": "markdown",
   "metadata": {},
   "source": [
    "## 8.1 Imports"
   ]
  },
  {
   "cell_type": "code",
   "execution_count": null,
   "metadata": {},
   "outputs": [],
   "source": [
    "import numpy                                        as np\n",
    "import pandas                                       as pd\n",
    "\n",
    "from sklearn                 import metrics         as mt\n",
    "from sklearn                 import preprocessing   as pp\n",
    "from sklearn                 import linear_model    as lm\n",
    "from sklearn.preprocessing   import StandardScaler\n",
    "from sklearn.model_selection import GridSearchCV"
   ]
  },
  {
   "cell_type": "markdown",
   "metadata": {},
   "source": [
    "## 8.2 Load Dataset"
   ]
  },
  {
   "cell_type": "code",
   "execution_count": null,
   "metadata": {},
   "outputs": [],
   "source": [
    "# X training / test / validation\n",
    "path_X_training = './training_test_validation(1)/X_training (1).csv'\n",
    "df_X_training = pd.read_csv(path_X_training)\n",
    "path_X_test = './training_test_validation(1)/X_test (1).csv'\n",
    "df_X_test = pd.read_csv(path_X_test)\n",
    "path_X_validation = './training_test_validation(1)/X_validation (1).csv'\n",
    "df_X_validation = pd.read_csv(path_X_validation)\n",
    "\n",
    "# Y training / test / validation\n",
    "path_y_training = './training_test_validation(1)/y_training (1).csv'\n",
    "df_y_training = pd.read_csv(path_y_training)\n",
    "path_y_test = './training_test_validation(1)/y_test (1).csv'\n",
    "df_y_test = pd.read_csv(path_y_test)\n",
    "path_y_validation = './training_test_validation(1)/y_val.csv'\n",
    "df_y_validation = pd.read_csv(path_y_validation)\n",
    "\n"
   ]
  },
  {
   "cell_type": "code",
   "execution_count": null,
   "metadata": {},
   "outputs": [],
   "source": [
    "df_X_training.head(5)"
   ]
  },
  {
   "cell_type": "code",
   "execution_count": null,
   "metadata": {},
   "outputs": [],
   "source": [
    "df_y_training.head(5)"
   ]
  },
  {
   "cell_type": "markdown",
   "metadata": {},
   "source": [
    "## 8.3 Features"
   ]
  },
  {
   "cell_type": "code",
   "execution_count": null,
   "metadata": {},
   "outputs": [],
   "source": [
    "features = ['song_duration_ms', 'acousticness', 'danceability', 'energy',\n",
    "       'instrumentalness', 'key', 'liveness', 'loudness', 'audio_mode',\n",
    "       'speechiness', 'tempo', 'time_signature', 'audio_valence']\n",
    "\n",
    "label = ['song_popularity']\n",
    "\n",
    "X_train = df_X_training.loc[:, features]\n",
    "y_train = df_y_training[label].values.ravel()\n",
    "X_test = df_X_test.loc[:, features]\n",
    "y_test = df_y_test[label].values.ravel()\n",
    "X_validation = df_X_validation.loc[:, features]\n",
    "y_validation = df_y_validation[label].values.ravel()"
   ]
  },
  {
   "cell_type": "markdown",
   "metadata": {},
   "source": [
    "### 8.3.1 Pre-processamento Normalizacao"
   ]
  },
  {
   "cell_type": "code",
   "execution_count": null,
   "metadata": {},
   "outputs": [],
   "source": [
    "# Escalonamento dos dados\n",
    "scaler = StandardScaler()\n",
    "\n",
    "X_train_scaled = scaler.fit_transform(X_train)\n",
    "X_test_scaled = scaler.transform(X_test)\n",
    "X_validation_scaled = scaler.transform(X_validation)"
   ]
  },
  {
   "cell_type": "markdown",
   "metadata": {},
   "source": [
    "## 8.4 Training"
   ]
  },
  {
   "cell_type": "markdown",
   "metadata": {},
   "source": [
    "### 8.4.1 Encontrar o melhor valor para degree, alpha e max_iter"
   ]
  },
  {
   "cell_type": "code",
   "execution_count": null,
   "metadata": {},
   "outputs": [],
   "source": [
    "# Criar o polinômio com o melhor grau\n",
    "poly = pp.PolynomialFeatures(degree=2, include_bias=False)\n",
    "\n",
    "# Gerar as features polinomiais\n",
    "X_train_poly = poly.fit_transform(X_train_scaled)\n",
    "X_test_poly = poly.transform(X_test_scaled)\n",
    "X_validation_poly = poly.transform(X_validation_scaled)"
   ]
  },
  {
   "cell_type": "code",
   "execution_count": null,
   "metadata": {},
   "outputs": [],
   "source": [
    "param_grid = {\n",
    "    'alpha': np.logspace(-3, 1, 5),\n",
    "    'max_iter': [1000, 5000],\n",
    "}\n",
    "\n",
    "grid_search = GridSearchCV(\n",
    "    estimator=lm.Ridge(random_state=0),\n",
    "    param_grid=param_grid,\n",
    "    cv=5,\n",
    "    scoring='neg_mean_absolute_error'\n",
    ")\n",
    "\n",
    "grid_search.fit(X_train_poly, y_train)\n",
    "    \n",
    "best_params = grid_search.best_params_\n",
    "best_rmse = np.sqrt(-grid_search.best_score_)\n",
    "\n",
    "print(f\"Melhores parâmetros encontrados: {best_params}\")\n",
    "print(f\"Melhor RMSE (validação cruzada): {best_rmse:.3f}\")"
   ]
  },
  {
   "cell_type": "markdown",
   "metadata": {},
   "source": [
    "## 8.5 Performance"
   ]
  },
  {
   "cell_type": "markdown",
   "metadata": {},
   "source": [
    "### 8.5.1 Perfomance sobre dados de Treino"
   ]
  },
  {
   "cell_type": "code",
   "execution_count": null,
   "metadata": {},
   "outputs": [],
   "source": [
    "# Criar o modelo de regressão lasso\n",
    "model = lm.Ridge(\n",
    "    alpha=best_params['alpha'],\n",
    "    max_iter=best_params['max_iter'],\n",
    "    random_state=0\n",
    ")\n",
    "\n",
    "# Treinar o modelo\n",
    "model.fit(X_train_poly, y_train)\n",
    "\n",
    "# Fazer previsões\n",
    "y_pred_train = model.predict(X_train_poly)\n",
    "y_pred_test = model.predict(X_test_poly)\n",
    "y_pred_validation = model.predict(X_validation_poly)"
   ]
  },
  {
   "cell_type": "code",
   "execution_count": null,
   "metadata": {},
   "outputs": [],
   "source": [
    "print(\"Métricas no Conjunto de Treinamento:\")\n",
    "print('R2:', mt.r2_score(y_train, y_pred_train))\n",
    "print('MSE:', np.round(mt.mean_squared_error(y_train, y_pred_train), 3))\n",
    "print('RMSE:', np.sqrt(mt.mean_squared_error(y_train, y_pred_train)))\n",
    "print('MAE:', np.round(mt.mean_absolute_error(y_train, y_pred_train), 3))\n",
    "print('MAPE:', np.round(mt.mean_absolute_percentage_error(y_train, y_pred_train), 3))"
   ]
  },
  {
   "cell_type": "markdown",
   "metadata": {},
   "source": [
    "### 8.5.2 Perfomance sobre dados de Validacao"
   ]
  },
  {
   "cell_type": "code",
   "execution_count": null,
   "metadata": {},
   "outputs": [],
   "source": [
    "print(\"\\nMétricas no Conjunto de Validação:\")\n",
    "print('R2:', mt.r2_score(y_validation, y_pred_validation))\n",
    "print('MSE:', np.round(mt.mean_squared_error(y_validation, y_pred_validation), 3))\n",
    "print('RMSE:', np.sqrt(mt.mean_squared_error(y_validation, y_pred_validation)))\n",
    "print('MAE:', np.round(mt.mean_absolute_error(y_validation, y_pred_validation), 3))\n",
    "print('MAPE:', np.round(mt.mean_absolute_percentage_error(y_validation, y_pred_validation), 3))"
   ]
  },
  {
   "cell_type": "markdown",
   "metadata": {},
   "source": [
    "### 8.5.3 Perfomance sobre dados de Teste"
   ]
  },
  {
   "cell_type": "code",
   "execution_count": null,
   "metadata": {},
   "outputs": [],
   "source": [
    "print(\"\\nMétricas no Conjunto de Teste:\")\n",
    "print('R2:', mt.r2_score(y_test, y_pred_test))\n",
    "print('MSE:', np.round(mt.mean_squared_error(y_test, y_pred_test), 3))\n",
    "print('RMSE:', np.sqrt(mt.mean_squared_error(y_test, y_pred_test)))\n",
    "print('MAE:', np.round(mt.mean_absolute_error(y_test, y_pred_test), 3))\n",
    "print('MAPE:', np.round(mt.mean_absolute_percentage_error(y_test, y_pred_test), 3))"
   ]
  },
  {
   "cell_type": "markdown",
   "metadata": {},
   "source": [
    "# 9.0 Regressao Polinomial - ELASTIC NET\n"
   ]
  },
  {
   "cell_type": "markdown",
   "metadata": {},
   "source": [
    "## 9.1 Imports"
   ]
  },
  {
   "cell_type": "code",
   "execution_count": null,
   "metadata": {},
   "outputs": [],
   "source": [
    "import pandas                                       as pd\n",
    "import numpy                                        as np\n",
    "\n",
    "from sklearn                 import metrics         as mt\n",
    "from sklearn                 import linear_model    as lm\n",
    "from sklearn                 import preprocessing   as pp\n",
    "from sklearn.preprocessing   import StandardScaler\n",
    "from sklearn.model_selection import GridSearchCV"
   ]
  },
  {
   "cell_type": "markdown",
   "metadata": {},
   "source": [
    "## 9.2 Load Dataset"
   ]
  },
  {
   "cell_type": "code",
   "execution_count": null,
   "metadata": {},
   "outputs": [],
   "source": [
    "# X training / test / validation\n",
    "path_X_training = './training_test_validation(1)/X_training (1).csv'\n",
    "df_X_training = pd.read_csv(path_X_training)\n",
    "path_X_test = './training_test_validation(1)/X_test (1).csv'\n",
    "df_X_test = pd.read_csv(path_X_test)\n",
    "path_X_validation = './training_test_validation(1)/X_validation (1).csv'\n",
    "df_X_validation = pd.read_csv(path_X_validation)\n",
    "\n",
    "# Y training / test / validation\n",
    "path_y_training = './training_test_validation(1)/y_training (1).csv'\n",
    "df_y_training = pd.read_csv(path_y_training)\n",
    "path_y_test = './training_test_validation(1)/y_test (1).csv'\n",
    "df_y_test = pd.read_csv(path_y_test)\n",
    "path_y_validation = './training_test_validation(1)/y_val.csv'\n",
    "df_y_validation = pd.read_csv(path_y_validation)"
   ]
  },
  {
   "cell_type": "code",
   "execution_count": null,
   "metadata": {},
   "outputs": [],
   "source": [
    "df_X_training.head(5)"
   ]
  },
  {
   "cell_type": "code",
   "execution_count": null,
   "metadata": {},
   "outputs": [],
   "source": [
    "df_y_training.head(5)"
   ]
  },
  {
   "cell_type": "markdown",
   "metadata": {},
   "source": [
    "## 9.3 Features"
   ]
  },
  {
   "cell_type": "code",
   "execution_count": null,
   "metadata": {},
   "outputs": [],
   "source": [
    "features = ['song_duration_ms', 'acousticness', 'danceability', 'energy',\n",
    "       'instrumentalness', 'key', 'liveness', 'loudness', 'audio_mode',\n",
    "       'speechiness', 'tempo', 'time_signature', 'audio_valence']\n",
    "\n",
    "label = ['song_popularity']\n",
    "\n",
    "X_train = df_X_training.loc[:, features]\n",
    "y_train = df_y_training[label].values.ravel()\n",
    "X_test = df_X_test.loc[:, features]\n",
    "y_test = df_y_test[label].values.ravel()\n",
    "X_validation = df_X_validation.loc[:, features]\n",
    "y_validation = df_y_validation[label].values.ravel()"
   ]
  },
  {
   "cell_type": "markdown",
   "metadata": {},
   "source": [
    "### 9.3.1 Pre-processamento Normalizacao"
   ]
  },
  {
   "cell_type": "code",
   "execution_count": null,
   "metadata": {},
   "outputs": [],
   "source": [
    "# Escalonamento dos dados\n",
    "scaler = StandardScaler()\n",
    "\n",
    "X_train_scaled = scaler.fit_transform(X_train)\n",
    "X_test_scaled = scaler.transform(X_test)\n",
    "X_validation_scaled = scaler.transform(X_validation)"
   ]
  },
  {
   "cell_type": "markdown",
   "metadata": {},
   "source": [
    "## 9.4 Training"
   ]
  },
  {
   "cell_type": "markdown",
   "metadata": {},
   "source": [
    "### 9.4.1 Encontrar o melhor valor para degree, alpha, max_iter e l1_ratio"
   ]
  },
  {
   "cell_type": "code",
   "execution_count": null,
   "metadata": {},
   "outputs": [],
   "source": [
    "# Criar o polinômio com o melhor grau\n",
    "poly = pp.PolynomialFeatures(degree=2, include_bias=False)\n",
    "\n",
    "# Gerar as features polinomiais\n",
    "X_train_poly = poly.fit_transform(X_train_scaled)\n",
    "X_test_poly = poly.transform(X_test_scaled)\n",
    "X_validation_poly = poly.transform(X_validation_scaled)"
   ]
  },
  {
   "cell_type": "code",
   "execution_count": null,
   "metadata": {},
   "outputs": [],
   "source": [
    "for degree in [1, 2, 3]:\n",
    "    print(f\"\\nTestando com polinômio de grau {degree}...\")\n",
    "    poly = pp.PolynomialFeatures(degree=degree, include_bias=False)\n",
    "\n",
    "    # Configuração da busca de hiperparâmetros para ElasticNet\n",
    "    param_grid = {\n",
    "        'alpha': [0.01, 0.1, 1, 10],  # Reduzido para valores chave\n",
    "        'l1_ratio': [0.2, 0.5, 0.8], # Menos combinações\n",
    "        'max_iter': [1000]           # Apenas um valor para economizar tempo\n",
    "    }\n",
    "\n",
    "    grid_search = GridSearchCV(\n",
    "        estimator= lm.ElasticNet(random_state=0),\n",
    "        param_grid=param_grid,\n",
    "        cv=3,  # Reduzido para 3 folds para acelerar\n",
    "        scoring='neg_mean_absolute_error',\n",
    "        n_jobs=-1  # Paralelizar busca\n",
    "    )\n",
    "    \n",
    "    # Executar busca de hiperparâmetros\n",
    "    grid_search.fit(X_train_poly, y_train)\n",
    "    best_params = grid_search.best_params_\n",
    "    best_rmse = np.sqrt(-grid_search.best_score_)  # RMSE a partir de MSE negativo\n",
    "\n",
    "print(f\"Melhores parâmetros encontrados: {best_params}\")\n",
    "print(f\"Melhor RMSE (validação cruzada): {best_rmse:.4f}\")\n",
    "# Melhor modelo encontrado:\n",
    "# degree         2\n",
    "# best_params    {'alpha': 9.1, 'l1_ratio': 9.8, 'max_iter': 1000}"
   ]
  },
  {
   "cell_type": "markdown",
   "metadata": {},
   "source": [
    "## 9.5 Performance"
   ]
  },
  {
   "cell_type": "markdown",
   "metadata": {},
   "source": [
    "### 9.5.1 Perfomance sobre dados de Treino"
   ]
  },
  {
   "cell_type": "code",
   "execution_count": null,
   "metadata": {},
   "outputs": [],
   "source": [
    "# Model definition\n",
    "lr_model = lm.ElasticNet(alpha=0.1, \n",
    "                         max_iter=1000, \n",
    "                         l1_ratio=0.8,\n",
    "                         random_state=0)\n",
    "\n",
    "# Model Fit (ajuste, treinamento)\n",
    "lr_model.fit(X_train_poly, y_train)\n",
    "\n",
    "# Previsao\n",
    "y_pred_train = lr_model.predict(X_train_poly)\n",
    "y_pred_test = lr_model.predict(X_test_poly)\n",
    "y_pred_validation = lr_model.predict(X_validation_poly)"
   ]
  },
  {
   "cell_type": "code",
   "execution_count": null,
   "metadata": {},
   "outputs": [],
   "source": [
    "print(\"Métricas no Conjunto de Treinamento:\")\n",
    "print('R2:', mt.r2_score(y_train, y_pred_train))\n",
    "print('MSE:', np.round(mt.mean_squared_error(y_train, y_pred_train), 3))\n",
    "print('RMSE:', np.sqrt(mt.mean_squared_error(y_train, y_pred_train)))\n",
    "print('MAE:', np.round(mt.mean_absolute_error(y_train, y_pred_train), 3))\n",
    "print('MAPE:', np.round(mt.mean_absolute_percentage_error(y_train, y_pred_train), 3))"
   ]
  },
  {
   "cell_type": "markdown",
   "metadata": {},
   "source": [
    "### 9.5.2 Perfomance sobre dados de Validacao"
   ]
  },
  {
   "cell_type": "code",
   "execution_count": null,
   "metadata": {},
   "outputs": [],
   "source": [
    "print(\"\\nMétricas no Conjunto de Validação:\")\n",
    "print('R2:', mt.r2_score(y_validation, y_pred_validation))\n",
    "print('MSE:', np.round(mt.mean_squared_error(y_validation, y_pred_validation), 3))\n",
    "print('RMSE:', np.sqrt(mt.mean_squared_error(y_validation, y_pred_validation)))\n",
    "print('MAE:', np.round(mt.mean_absolute_error(y_validation, y_pred_validation), 3))\n",
    "print('MAPE:', np.round(mt.mean_absolute_percentage_error(y_validation, y_pred_validation), 3))"
   ]
  },
  {
   "cell_type": "markdown",
   "metadata": {},
   "source": [
    "### 9.5.3 Perfomance sobre dados de Teste"
   ]
  },
  {
   "cell_type": "code",
   "execution_count": null,
   "metadata": {},
   "outputs": [],
   "source": [
    "print(\"\\nMétricas no Conjunto de Teste:\")\n",
    "print('R2:', mt.r2_score(y_test, y_pred_test))\n",
    "print('MSE:', np.round(mt.mean_squared_error(y_test, y_pred_test), 3))\n",
    "print('RMSE:', np.sqrt(mt.mean_squared_error(y_test, y_pred_test)))\n",
    "print('MAE:', np.round(mt.mean_absolute_error(y_test, y_pred_test), 3))\n",
    "print('MAPE:', np.round(mt.mean_absolute_percentage_error(y_test, y_pred_test), 3))"
   ]
  }
 ],
 "metadata": {
  "language_info": {
   "name": "python"
  }
 },
 "nbformat": 4,
 "nbformat_minor": 2
}
